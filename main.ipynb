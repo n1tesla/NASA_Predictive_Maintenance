{
 "cells": [
  {
   "cell_type": "code",
   "execution_count": 12,
   "outputs": [
    {
     "name": "stdout",
     "output_type": "stream",
     "text": [
      "The autoreload extension is already loaded. To reload it, use:\n",
      "  %reload_ext autoreload\n"
     ]
    }
   ],
   "source": [
    "from preprocessing.prepare_data import read_data,add_rul_column,extract_max_rul,convert_rul_to_label, DATA_PREPARATION\n",
    "import numpy as np\n",
    "%load_ext autoreload\n",
    "%autoreload 2"
   ],
   "metadata": {
    "collapsed": false
   }
  },
  {
   "cell_type": "code",
   "execution_count": 13,
   "outputs": [
    {
     "data": {
      "text/plain": "       unit_number  time_in_cycles  LPCompOT  HPCompOT  LPTurbineOT  HPCompOP  \\\n0                1               1    643.02   1585.29      1398.21    553.90   \n1                1               2    641.71   1588.45      1395.42    554.85   \n2                1               3    642.46   1586.94      1401.34    554.11   \n3                1               4    642.44   1584.12      1406.42    554.07   \n4                1               5    642.51   1587.19      1401.92    554.16   \n...            ...             ...       ...       ...          ...       ...   \n13091          100             194    643.24   1599.45      1415.79    553.41   \n13092          100             195    643.22   1595.69      1422.05    553.22   \n13093          100             196    643.44   1593.15      1406.82    553.04   \n13094          100             197    643.26   1594.99      1419.36    553.37   \n13095          100             198    642.95   1601.62      1424.99    552.48   \n\n       PhyFanSpeed  PhyCoreSpeed  HPCOStaticPre  RFuelFlow  CorrectedFanSpeed  \\\n0          2388.04       9050.17          47.20     521.72            2388.03   \n1          2388.01       9054.42          47.50     522.16            2388.06   \n2          2388.05       9056.96          47.50     521.97            2388.03   \n3          2388.03       9045.29          47.28     521.38            2388.05   \n4          2388.01       9044.55          47.31     522.15            2388.03   \n...            ...           ...            ...        ...                ...   \n13091      2388.02       9142.37          47.69     520.69            2388.00   \n13092      2388.05       9140.68          47.60     521.05            2388.09   \n13093      2388.11       9146.81          47.57     521.18            2388.04   \n13094      2388.07       9148.85          47.61     521.33            2388.08   \n13095      2388.06       9155.03          47.80     521.07            2388.05   \n\n       BypassRatio  BleedEnthalpy  HPTurbineCoolAirFlow  LPTurbineAirFlow  \\\n0           8.4052            392                 38.86           23.3735   \n1           8.3803            393                 39.02           23.3916   \n2           8.4441            393                 39.08           23.4166   \n3           8.3917            391                 39.00           23.3737   \n4           8.4031            390                 38.99           23.4130   \n...            ...            ...                   ...               ...   \n13091       8.4715            394                 38.65           23.1974   \n13092       8.4512            395                 38.57           23.2771   \n13093       8.4569            395                 38.62           23.2051   \n13094       8.4711            395                 38.66           23.2699   \n13095       8.4903            396                 38.70           23.1855   \n\n       RUL  label1  label2  \n0       30       1       1  \n1       29       1       1  \n2       28       1       1  \n3       27       1       1  \n4       26       1       1  \n...    ...     ...     ...  \n13091    4       1       2  \n13092    3       1       2  \n13093    2       1       2  \n13094    1       1       2  \n13095    0       1       2  \n\n[13096 rows x 18 columns]",
      "text/html": "<div>\n<style scoped>\n    .dataframe tbody tr th:only-of-type {\n        vertical-align: middle;\n    }\n\n    .dataframe tbody tr th {\n        vertical-align: top;\n    }\n\n    .dataframe thead th {\n        text-align: right;\n    }\n</style>\n<table border=\"1\" class=\"dataframe\">\n  <thead>\n    <tr style=\"text-align: right;\">\n      <th></th>\n      <th>unit_number</th>\n      <th>time_in_cycles</th>\n      <th>LPCompOT</th>\n      <th>HPCompOT</th>\n      <th>LPTurbineOT</th>\n      <th>HPCompOP</th>\n      <th>PhyFanSpeed</th>\n      <th>PhyCoreSpeed</th>\n      <th>HPCOStaticPre</th>\n      <th>RFuelFlow</th>\n      <th>CorrectedFanSpeed</th>\n      <th>BypassRatio</th>\n      <th>BleedEnthalpy</th>\n      <th>HPTurbineCoolAirFlow</th>\n      <th>LPTurbineAirFlow</th>\n      <th>RUL</th>\n      <th>label1</th>\n      <th>label2</th>\n    </tr>\n  </thead>\n  <tbody>\n    <tr>\n      <th>0</th>\n      <td>1</td>\n      <td>1</td>\n      <td>643.02</td>\n      <td>1585.29</td>\n      <td>1398.21</td>\n      <td>553.90</td>\n      <td>2388.04</td>\n      <td>9050.17</td>\n      <td>47.20</td>\n      <td>521.72</td>\n      <td>2388.03</td>\n      <td>8.4052</td>\n      <td>392</td>\n      <td>38.86</td>\n      <td>23.3735</td>\n      <td>30</td>\n      <td>1</td>\n      <td>1</td>\n    </tr>\n    <tr>\n      <th>1</th>\n      <td>1</td>\n      <td>2</td>\n      <td>641.71</td>\n      <td>1588.45</td>\n      <td>1395.42</td>\n      <td>554.85</td>\n      <td>2388.01</td>\n      <td>9054.42</td>\n      <td>47.50</td>\n      <td>522.16</td>\n      <td>2388.06</td>\n      <td>8.3803</td>\n      <td>393</td>\n      <td>39.02</td>\n      <td>23.3916</td>\n      <td>29</td>\n      <td>1</td>\n      <td>1</td>\n    </tr>\n    <tr>\n      <th>2</th>\n      <td>1</td>\n      <td>3</td>\n      <td>642.46</td>\n      <td>1586.94</td>\n      <td>1401.34</td>\n      <td>554.11</td>\n      <td>2388.05</td>\n      <td>9056.96</td>\n      <td>47.50</td>\n      <td>521.97</td>\n      <td>2388.03</td>\n      <td>8.4441</td>\n      <td>393</td>\n      <td>39.08</td>\n      <td>23.4166</td>\n      <td>28</td>\n      <td>1</td>\n      <td>1</td>\n    </tr>\n    <tr>\n      <th>3</th>\n      <td>1</td>\n      <td>4</td>\n      <td>642.44</td>\n      <td>1584.12</td>\n      <td>1406.42</td>\n      <td>554.07</td>\n      <td>2388.03</td>\n      <td>9045.29</td>\n      <td>47.28</td>\n      <td>521.38</td>\n      <td>2388.05</td>\n      <td>8.3917</td>\n      <td>391</td>\n      <td>39.00</td>\n      <td>23.3737</td>\n      <td>27</td>\n      <td>1</td>\n      <td>1</td>\n    </tr>\n    <tr>\n      <th>4</th>\n      <td>1</td>\n      <td>5</td>\n      <td>642.51</td>\n      <td>1587.19</td>\n      <td>1401.92</td>\n      <td>554.16</td>\n      <td>2388.01</td>\n      <td>9044.55</td>\n      <td>47.31</td>\n      <td>522.15</td>\n      <td>2388.03</td>\n      <td>8.4031</td>\n      <td>390</td>\n      <td>38.99</td>\n      <td>23.4130</td>\n      <td>26</td>\n      <td>1</td>\n      <td>1</td>\n    </tr>\n    <tr>\n      <th>...</th>\n      <td>...</td>\n      <td>...</td>\n      <td>...</td>\n      <td>...</td>\n      <td>...</td>\n      <td>...</td>\n      <td>...</td>\n      <td>...</td>\n      <td>...</td>\n      <td>...</td>\n      <td>...</td>\n      <td>...</td>\n      <td>...</td>\n      <td>...</td>\n      <td>...</td>\n      <td>...</td>\n      <td>...</td>\n      <td>...</td>\n    </tr>\n    <tr>\n      <th>13091</th>\n      <td>100</td>\n      <td>194</td>\n      <td>643.24</td>\n      <td>1599.45</td>\n      <td>1415.79</td>\n      <td>553.41</td>\n      <td>2388.02</td>\n      <td>9142.37</td>\n      <td>47.69</td>\n      <td>520.69</td>\n      <td>2388.00</td>\n      <td>8.4715</td>\n      <td>394</td>\n      <td>38.65</td>\n      <td>23.1974</td>\n      <td>4</td>\n      <td>1</td>\n      <td>2</td>\n    </tr>\n    <tr>\n      <th>13092</th>\n      <td>100</td>\n      <td>195</td>\n      <td>643.22</td>\n      <td>1595.69</td>\n      <td>1422.05</td>\n      <td>553.22</td>\n      <td>2388.05</td>\n      <td>9140.68</td>\n      <td>47.60</td>\n      <td>521.05</td>\n      <td>2388.09</td>\n      <td>8.4512</td>\n      <td>395</td>\n      <td>38.57</td>\n      <td>23.2771</td>\n      <td>3</td>\n      <td>1</td>\n      <td>2</td>\n    </tr>\n    <tr>\n      <th>13093</th>\n      <td>100</td>\n      <td>196</td>\n      <td>643.44</td>\n      <td>1593.15</td>\n      <td>1406.82</td>\n      <td>553.04</td>\n      <td>2388.11</td>\n      <td>9146.81</td>\n      <td>47.57</td>\n      <td>521.18</td>\n      <td>2388.04</td>\n      <td>8.4569</td>\n      <td>395</td>\n      <td>38.62</td>\n      <td>23.2051</td>\n      <td>2</td>\n      <td>1</td>\n      <td>2</td>\n    </tr>\n    <tr>\n      <th>13094</th>\n      <td>100</td>\n      <td>197</td>\n      <td>643.26</td>\n      <td>1594.99</td>\n      <td>1419.36</td>\n      <td>553.37</td>\n      <td>2388.07</td>\n      <td>9148.85</td>\n      <td>47.61</td>\n      <td>521.33</td>\n      <td>2388.08</td>\n      <td>8.4711</td>\n      <td>395</td>\n      <td>38.66</td>\n      <td>23.2699</td>\n      <td>1</td>\n      <td>1</td>\n      <td>2</td>\n    </tr>\n    <tr>\n      <th>13095</th>\n      <td>100</td>\n      <td>198</td>\n      <td>642.95</td>\n      <td>1601.62</td>\n      <td>1424.99</td>\n      <td>552.48</td>\n      <td>2388.06</td>\n      <td>9155.03</td>\n      <td>47.80</td>\n      <td>521.07</td>\n      <td>2388.05</td>\n      <td>8.4903</td>\n      <td>396</td>\n      <td>38.70</td>\n      <td>23.1855</td>\n      <td>0</td>\n      <td>1</td>\n      <td>2</td>\n    </tr>\n  </tbody>\n</table>\n<p>13096 rows × 18 columns</p>\n</div>"
     },
     "execution_count": 13,
     "metadata": {},
     "output_type": "execute_result"
    }
   ],
   "source": [
    "fd_001_train,fd_001_test,RUL_1=read_data()\n",
    "features=['LPCompOT', 'HPCompOT','LPTurbineOT', 'HPCompOP', 'PhyFanSpeed', 'PhyCoreSpeed', 'HPCOStaticPre', 'RFuelFlow', 'CorrectedFanSpeed', 'BypassRatio', 'BleedEnthalpy', 'HPTurbineCoolAirFlow','LPTurbineAirFlow']\n",
    "id_features=['unit_number', 'time_in_cycles']\n",
    "\n",
    "# constant_columns=['ReqFanSpeed','ReqFanConvSpeed','FanInP','FanInTemp','TRA','BurnerFuelAirRatio','EngPreRatio']\n",
    "# correlated_columns=['setting_1','setting_2','BypassDuctP','CorrectedCoreSpeed']\n",
    "df_train=fd_001_train.loc[:,id_features+features]\n",
    "df_test=fd_001_test.loc[:,id_features+features]\n",
    "df_train=add_rul_column(df_train)\n",
    "df_test=add_rul_column(df_test)\n",
    "df_truth=extract_max_rul(df_test,RUL_1)\n",
    "df_train=convert_rul_to_label(df_train)\n",
    "df_test=convert_rul_to_label(df_test)\n",
    "df_test"
   ],
   "metadata": {
    "collapsed": false
   }
  },
  {
   "cell_type": "code",
   "execution_count": 14,
   "outputs": [],
   "source": [
    "preparation=DATA_PREPARATION(df_train,df_test,features,id_features)"
   ],
   "metadata": {
    "collapsed": false
   }
  },
  {
   "cell_type": "code",
   "execution_count": 15,
   "outputs": [],
   "source": [
    "df_train,df_test=preparation.scale_data()"
   ],
   "metadata": {
    "collapsed": false
   }
  },
  {
   "cell_type": "code",
   "execution_count": 16,
   "outputs": [
    {
     "data": {
      "text/plain": "       unit_number  time_in_cycles  LPCompOT  HPCompOT  LPTurbineOT  HPCompOP  \\\n0                1               1  0.678077 -0.853550    -1.191480  0.601408   \n1                1               2 -1.941707 -0.338137    -1.501467  1.674769   \n2                1               3 -0.441831 -0.584426    -0.843717  0.838677   \n3                1               4 -0.481827 -1.044384    -0.279297  0.793483   \n4                1               5 -0.341839 -0.543650    -0.779276  0.895170   \n...            ...             ...       ...       ...          ...       ...   \n13091          100             194  1.118041  1.456023     0.761769  0.047780   \n13092          100             195  1.078044  0.842747     1.457295 -0.166892   \n13093          100             196  1.518008  0.428459    -0.234855 -0.370266   \n13094          100             197  1.158038  0.728573     1.158419  0.002586   \n13095          100             198  0.538089  1.809962     1.783948 -1.002983   \n\n       PhyFanSpeed  PhyCoreSpeed  HPCOStaticPre  RFuelFlow  CorrectedFanSpeed  \\\n0        -0.798093     -0.682579      -1.277396   0.415614          -0.919841   \n1        -1.220725     -0.490117      -0.154141   1.012195          -0.502695   \n2        -0.657216     -0.375093      -0.154141   0.754581          -0.919841   \n3        -0.938970     -0.903570      -0.977861  -0.045381          -0.641744   \n4        -1.220725     -0.937081      -0.865536   0.998637          -0.919841   \n...            ...           ...            ...        ...                ...   \n13091    -1.079848      3.492703       0.557254  -0.980929          -1.336988   \n13092    -0.657216      3.416171       0.220277  -0.492817          -0.085548   \n13093     0.188048      3.693768       0.107952  -0.316554          -0.780793   \n13094    -0.375461      3.786150       0.257719  -0.113174          -0.224597   \n13095    -0.516338      4.066011       0.969114  -0.465700          -0.641744   \n\n       BypassRatio  BleedEnthalpy  HPTurbineCoolAirFlow  LPTurbineAirFlow  \\\n0        -0.985107      -0.781710              0.241943          0.774097   \n1        -1.649034      -0.136018              1.127183          0.941305   \n2         0.052112      -0.136018              1.459148          1.172256   \n3        -1.345067      -1.427402              1.016528          0.775945   \n4        -1.041101      -2.073094              0.961200          1.138999   \n...            ...            ...                   ...               ...   \n13091     0.782698       0.509675             -0.919933         -0.852719   \n13092     0.241425       1.155367             -1.362553         -0.116449   \n13093     0.393408       1.155367             -1.085916         -0.781586   \n13094     0.772033       1.155367             -0.864606         -0.182962   \n13095     1.283976       1.801059             -0.643296         -0.962652   \n\n       RUL  label1  label2  cycle_norm  \n0       30       1       1   -1.565170  \n1       29       1       1   -1.550652  \n2       28       1       1   -1.536134  \n3       27       1       1   -1.521616  \n4       26       1       1   -1.507098  \n...    ...     ...     ...         ...  \n13091    4       1       2    1.236832  \n13092    3       1       2    1.251350  \n13093    2       1       2    1.265868  \n13094    1       1       2    1.280386  \n13095    0       1       2    1.294904  \n\n[13096 rows x 19 columns]",
      "text/html": "<div>\n<style scoped>\n    .dataframe tbody tr th:only-of-type {\n        vertical-align: middle;\n    }\n\n    .dataframe tbody tr th {\n        vertical-align: top;\n    }\n\n    .dataframe thead th {\n        text-align: right;\n    }\n</style>\n<table border=\"1\" class=\"dataframe\">\n  <thead>\n    <tr style=\"text-align: right;\">\n      <th></th>\n      <th>unit_number</th>\n      <th>time_in_cycles</th>\n      <th>LPCompOT</th>\n      <th>HPCompOT</th>\n      <th>LPTurbineOT</th>\n      <th>HPCompOP</th>\n      <th>PhyFanSpeed</th>\n      <th>PhyCoreSpeed</th>\n      <th>HPCOStaticPre</th>\n      <th>RFuelFlow</th>\n      <th>CorrectedFanSpeed</th>\n      <th>BypassRatio</th>\n      <th>BleedEnthalpy</th>\n      <th>HPTurbineCoolAirFlow</th>\n      <th>LPTurbineAirFlow</th>\n      <th>RUL</th>\n      <th>label1</th>\n      <th>label2</th>\n      <th>cycle_norm</th>\n    </tr>\n  </thead>\n  <tbody>\n    <tr>\n      <th>0</th>\n      <td>1</td>\n      <td>1</td>\n      <td>0.678077</td>\n      <td>-0.853550</td>\n      <td>-1.191480</td>\n      <td>0.601408</td>\n      <td>-0.798093</td>\n      <td>-0.682579</td>\n      <td>-1.277396</td>\n      <td>0.415614</td>\n      <td>-0.919841</td>\n      <td>-0.985107</td>\n      <td>-0.781710</td>\n      <td>0.241943</td>\n      <td>0.774097</td>\n      <td>30</td>\n      <td>1</td>\n      <td>1</td>\n      <td>-1.565170</td>\n    </tr>\n    <tr>\n      <th>1</th>\n      <td>1</td>\n      <td>2</td>\n      <td>-1.941707</td>\n      <td>-0.338137</td>\n      <td>-1.501467</td>\n      <td>1.674769</td>\n      <td>-1.220725</td>\n      <td>-0.490117</td>\n      <td>-0.154141</td>\n      <td>1.012195</td>\n      <td>-0.502695</td>\n      <td>-1.649034</td>\n      <td>-0.136018</td>\n      <td>1.127183</td>\n      <td>0.941305</td>\n      <td>29</td>\n      <td>1</td>\n      <td>1</td>\n      <td>-1.550652</td>\n    </tr>\n    <tr>\n      <th>2</th>\n      <td>1</td>\n      <td>3</td>\n      <td>-0.441831</td>\n      <td>-0.584426</td>\n      <td>-0.843717</td>\n      <td>0.838677</td>\n      <td>-0.657216</td>\n      <td>-0.375093</td>\n      <td>-0.154141</td>\n      <td>0.754581</td>\n      <td>-0.919841</td>\n      <td>0.052112</td>\n      <td>-0.136018</td>\n      <td>1.459148</td>\n      <td>1.172256</td>\n      <td>28</td>\n      <td>1</td>\n      <td>1</td>\n      <td>-1.536134</td>\n    </tr>\n    <tr>\n      <th>3</th>\n      <td>1</td>\n      <td>4</td>\n      <td>-0.481827</td>\n      <td>-1.044384</td>\n      <td>-0.279297</td>\n      <td>0.793483</td>\n      <td>-0.938970</td>\n      <td>-0.903570</td>\n      <td>-0.977861</td>\n      <td>-0.045381</td>\n      <td>-0.641744</td>\n      <td>-1.345067</td>\n      <td>-1.427402</td>\n      <td>1.016528</td>\n      <td>0.775945</td>\n      <td>27</td>\n      <td>1</td>\n      <td>1</td>\n      <td>-1.521616</td>\n    </tr>\n    <tr>\n      <th>4</th>\n      <td>1</td>\n      <td>5</td>\n      <td>-0.341839</td>\n      <td>-0.543650</td>\n      <td>-0.779276</td>\n      <td>0.895170</td>\n      <td>-1.220725</td>\n      <td>-0.937081</td>\n      <td>-0.865536</td>\n      <td>0.998637</td>\n      <td>-0.919841</td>\n      <td>-1.041101</td>\n      <td>-2.073094</td>\n      <td>0.961200</td>\n      <td>1.138999</td>\n      <td>26</td>\n      <td>1</td>\n      <td>1</td>\n      <td>-1.507098</td>\n    </tr>\n    <tr>\n      <th>...</th>\n      <td>...</td>\n      <td>...</td>\n      <td>...</td>\n      <td>...</td>\n      <td>...</td>\n      <td>...</td>\n      <td>...</td>\n      <td>...</td>\n      <td>...</td>\n      <td>...</td>\n      <td>...</td>\n      <td>...</td>\n      <td>...</td>\n      <td>...</td>\n      <td>...</td>\n      <td>...</td>\n      <td>...</td>\n      <td>...</td>\n      <td>...</td>\n    </tr>\n    <tr>\n      <th>13091</th>\n      <td>100</td>\n      <td>194</td>\n      <td>1.118041</td>\n      <td>1.456023</td>\n      <td>0.761769</td>\n      <td>0.047780</td>\n      <td>-1.079848</td>\n      <td>3.492703</td>\n      <td>0.557254</td>\n      <td>-0.980929</td>\n      <td>-1.336988</td>\n      <td>0.782698</td>\n      <td>0.509675</td>\n      <td>-0.919933</td>\n      <td>-0.852719</td>\n      <td>4</td>\n      <td>1</td>\n      <td>2</td>\n      <td>1.236832</td>\n    </tr>\n    <tr>\n      <th>13092</th>\n      <td>100</td>\n      <td>195</td>\n      <td>1.078044</td>\n      <td>0.842747</td>\n      <td>1.457295</td>\n      <td>-0.166892</td>\n      <td>-0.657216</td>\n      <td>3.416171</td>\n      <td>0.220277</td>\n      <td>-0.492817</td>\n      <td>-0.085548</td>\n      <td>0.241425</td>\n      <td>1.155367</td>\n      <td>-1.362553</td>\n      <td>-0.116449</td>\n      <td>3</td>\n      <td>1</td>\n      <td>2</td>\n      <td>1.251350</td>\n    </tr>\n    <tr>\n      <th>13093</th>\n      <td>100</td>\n      <td>196</td>\n      <td>1.518008</td>\n      <td>0.428459</td>\n      <td>-0.234855</td>\n      <td>-0.370266</td>\n      <td>0.188048</td>\n      <td>3.693768</td>\n      <td>0.107952</td>\n      <td>-0.316554</td>\n      <td>-0.780793</td>\n      <td>0.393408</td>\n      <td>1.155367</td>\n      <td>-1.085916</td>\n      <td>-0.781586</td>\n      <td>2</td>\n      <td>1</td>\n      <td>2</td>\n      <td>1.265868</td>\n    </tr>\n    <tr>\n      <th>13094</th>\n      <td>100</td>\n      <td>197</td>\n      <td>1.158038</td>\n      <td>0.728573</td>\n      <td>1.158419</td>\n      <td>0.002586</td>\n      <td>-0.375461</td>\n      <td>3.786150</td>\n      <td>0.257719</td>\n      <td>-0.113174</td>\n      <td>-0.224597</td>\n      <td>0.772033</td>\n      <td>1.155367</td>\n      <td>-0.864606</td>\n      <td>-0.182962</td>\n      <td>1</td>\n      <td>1</td>\n      <td>2</td>\n      <td>1.280386</td>\n    </tr>\n    <tr>\n      <th>13095</th>\n      <td>100</td>\n      <td>198</td>\n      <td>0.538089</td>\n      <td>1.809962</td>\n      <td>1.783948</td>\n      <td>-1.002983</td>\n      <td>-0.516338</td>\n      <td>4.066011</td>\n      <td>0.969114</td>\n      <td>-0.465700</td>\n      <td>-0.641744</td>\n      <td>1.283976</td>\n      <td>1.801059</td>\n      <td>-0.643296</td>\n      <td>-0.962652</td>\n      <td>0</td>\n      <td>1</td>\n      <td>2</td>\n      <td>1.294904</td>\n    </tr>\n  </tbody>\n</table>\n<p>13096 rows × 19 columns</p>\n</div>"
     },
     "execution_count": 16,
     "metadata": {},
     "output_type": "execute_result"
    }
   ],
   "source": [
    "df_test"
   ],
   "metadata": {
    "collapsed": false
   }
  },
  {
   "cell_type": "code",
   "execution_count": 17,
   "outputs": [
    {
     "data": {
      "text/plain": "       unit_number  time_in_cycles  LPCompOT  HPCompOT  LPTurbineOT  HPCompOP  \\\n0                1               1  0.678077 -0.853550    -1.191480  0.601408   \n1                1               2 -1.941707 -0.338137    -1.501467  1.674769   \n2                1               3 -0.441831 -0.584426    -0.843717  0.838677   \n3                1               4 -0.481827 -1.044384    -0.279297  0.793483   \n4                1               5 -0.341839 -0.543650    -0.779276  0.895170   \n...            ...             ...       ...       ...          ...       ...   \n13091          100             194  1.118041  1.456023     0.761769  0.047780   \n13092          100             195  1.078044  0.842747     1.457295 -0.166892   \n13093          100             196  1.518008  0.428459    -0.234855 -0.370266   \n13094          100             197  1.158038  0.728573     1.158419  0.002586   \n13095          100             198  0.538089  1.809962     1.783948 -1.002983   \n\n       PhyFanSpeed  PhyCoreSpeed  HPCOStaticPre  RFuelFlow  CorrectedFanSpeed  \\\n0        -0.798093     -0.682579      -1.277396   0.415614          -0.919841   \n1        -1.220725     -0.490117      -0.154141   1.012195          -0.502695   \n2        -0.657216     -0.375093      -0.154141   0.754581          -0.919841   \n3        -0.938970     -0.903570      -0.977861  -0.045381          -0.641744   \n4        -1.220725     -0.937081      -0.865536   0.998637          -0.919841   \n...            ...           ...            ...        ...                ...   \n13091    -1.079848      3.492703       0.557254  -0.980929          -1.336988   \n13092    -0.657216      3.416171       0.220277  -0.492817          -0.085548   \n13093     0.188048      3.693768       0.107952  -0.316554          -0.780793   \n13094    -0.375461      3.786150       0.257719  -0.113174          -0.224597   \n13095    -0.516338      4.066011       0.969114  -0.465700          -0.641744   \n\n       BypassRatio  BleedEnthalpy  HPTurbineCoolAirFlow  LPTurbineAirFlow  \\\n0        -0.985107      -0.781710              0.241943          0.774097   \n1        -1.649034      -0.136018              1.127183          0.941305   \n2         0.052112      -0.136018              1.459148          1.172256   \n3        -1.345067      -1.427402              1.016528          0.775945   \n4        -1.041101      -2.073094              0.961200          1.138999   \n...            ...            ...                   ...               ...   \n13091     0.782698       0.509675             -0.919933         -0.852719   \n13092     0.241425       1.155367             -1.362553         -0.116449   \n13093     0.393408       1.155367             -1.085916         -0.781586   \n13094     0.772033       1.155367             -0.864606         -0.182962   \n13095     1.283976       1.801059             -0.643296         -0.962652   \n\n       RUL  label1  label2  cycle_norm  \n0       30       1       1   -1.565170  \n1       29       1       1   -1.550652  \n2       28       1       1   -1.536134  \n3       27       1       1   -1.521616  \n4       26       1       1   -1.507098  \n...    ...     ...     ...         ...  \n13091    4       1       2    1.236832  \n13092    3       1       2    1.251350  \n13093    2       1       2    1.265868  \n13094    1       1       2    1.280386  \n13095    0       1       2    1.294904  \n\n[13096 rows x 19 columns]",
      "text/html": "<div>\n<style scoped>\n    .dataframe tbody tr th:only-of-type {\n        vertical-align: middle;\n    }\n\n    .dataframe tbody tr th {\n        vertical-align: top;\n    }\n\n    .dataframe thead th {\n        text-align: right;\n    }\n</style>\n<table border=\"1\" class=\"dataframe\">\n  <thead>\n    <tr style=\"text-align: right;\">\n      <th></th>\n      <th>unit_number</th>\n      <th>time_in_cycles</th>\n      <th>LPCompOT</th>\n      <th>HPCompOT</th>\n      <th>LPTurbineOT</th>\n      <th>HPCompOP</th>\n      <th>PhyFanSpeed</th>\n      <th>PhyCoreSpeed</th>\n      <th>HPCOStaticPre</th>\n      <th>RFuelFlow</th>\n      <th>CorrectedFanSpeed</th>\n      <th>BypassRatio</th>\n      <th>BleedEnthalpy</th>\n      <th>HPTurbineCoolAirFlow</th>\n      <th>LPTurbineAirFlow</th>\n      <th>RUL</th>\n      <th>label1</th>\n      <th>label2</th>\n      <th>cycle_norm</th>\n    </tr>\n  </thead>\n  <tbody>\n    <tr>\n      <th>0</th>\n      <td>1</td>\n      <td>1</td>\n      <td>0.678077</td>\n      <td>-0.853550</td>\n      <td>-1.191480</td>\n      <td>0.601408</td>\n      <td>-0.798093</td>\n      <td>-0.682579</td>\n      <td>-1.277396</td>\n      <td>0.415614</td>\n      <td>-0.919841</td>\n      <td>-0.985107</td>\n      <td>-0.781710</td>\n      <td>0.241943</td>\n      <td>0.774097</td>\n      <td>30</td>\n      <td>1</td>\n      <td>1</td>\n      <td>-1.565170</td>\n    </tr>\n    <tr>\n      <th>1</th>\n      <td>1</td>\n      <td>2</td>\n      <td>-1.941707</td>\n      <td>-0.338137</td>\n      <td>-1.501467</td>\n      <td>1.674769</td>\n      <td>-1.220725</td>\n      <td>-0.490117</td>\n      <td>-0.154141</td>\n      <td>1.012195</td>\n      <td>-0.502695</td>\n      <td>-1.649034</td>\n      <td>-0.136018</td>\n      <td>1.127183</td>\n      <td>0.941305</td>\n      <td>29</td>\n      <td>1</td>\n      <td>1</td>\n      <td>-1.550652</td>\n    </tr>\n    <tr>\n      <th>2</th>\n      <td>1</td>\n      <td>3</td>\n      <td>-0.441831</td>\n      <td>-0.584426</td>\n      <td>-0.843717</td>\n      <td>0.838677</td>\n      <td>-0.657216</td>\n      <td>-0.375093</td>\n      <td>-0.154141</td>\n      <td>0.754581</td>\n      <td>-0.919841</td>\n      <td>0.052112</td>\n      <td>-0.136018</td>\n      <td>1.459148</td>\n      <td>1.172256</td>\n      <td>28</td>\n      <td>1</td>\n      <td>1</td>\n      <td>-1.536134</td>\n    </tr>\n    <tr>\n      <th>3</th>\n      <td>1</td>\n      <td>4</td>\n      <td>-0.481827</td>\n      <td>-1.044384</td>\n      <td>-0.279297</td>\n      <td>0.793483</td>\n      <td>-0.938970</td>\n      <td>-0.903570</td>\n      <td>-0.977861</td>\n      <td>-0.045381</td>\n      <td>-0.641744</td>\n      <td>-1.345067</td>\n      <td>-1.427402</td>\n      <td>1.016528</td>\n      <td>0.775945</td>\n      <td>27</td>\n      <td>1</td>\n      <td>1</td>\n      <td>-1.521616</td>\n    </tr>\n    <tr>\n      <th>4</th>\n      <td>1</td>\n      <td>5</td>\n      <td>-0.341839</td>\n      <td>-0.543650</td>\n      <td>-0.779276</td>\n      <td>0.895170</td>\n      <td>-1.220725</td>\n      <td>-0.937081</td>\n      <td>-0.865536</td>\n      <td>0.998637</td>\n      <td>-0.919841</td>\n      <td>-1.041101</td>\n      <td>-2.073094</td>\n      <td>0.961200</td>\n      <td>1.138999</td>\n      <td>26</td>\n      <td>1</td>\n      <td>1</td>\n      <td>-1.507098</td>\n    </tr>\n    <tr>\n      <th>...</th>\n      <td>...</td>\n      <td>...</td>\n      <td>...</td>\n      <td>...</td>\n      <td>...</td>\n      <td>...</td>\n      <td>...</td>\n      <td>...</td>\n      <td>...</td>\n      <td>...</td>\n      <td>...</td>\n      <td>...</td>\n      <td>...</td>\n      <td>...</td>\n      <td>...</td>\n      <td>...</td>\n      <td>...</td>\n      <td>...</td>\n      <td>...</td>\n    </tr>\n    <tr>\n      <th>13091</th>\n      <td>100</td>\n      <td>194</td>\n      <td>1.118041</td>\n      <td>1.456023</td>\n      <td>0.761769</td>\n      <td>0.047780</td>\n      <td>-1.079848</td>\n      <td>3.492703</td>\n      <td>0.557254</td>\n      <td>-0.980929</td>\n      <td>-1.336988</td>\n      <td>0.782698</td>\n      <td>0.509675</td>\n      <td>-0.919933</td>\n      <td>-0.852719</td>\n      <td>4</td>\n      <td>1</td>\n      <td>2</td>\n      <td>1.236832</td>\n    </tr>\n    <tr>\n      <th>13092</th>\n      <td>100</td>\n      <td>195</td>\n      <td>1.078044</td>\n      <td>0.842747</td>\n      <td>1.457295</td>\n      <td>-0.166892</td>\n      <td>-0.657216</td>\n      <td>3.416171</td>\n      <td>0.220277</td>\n      <td>-0.492817</td>\n      <td>-0.085548</td>\n      <td>0.241425</td>\n      <td>1.155367</td>\n      <td>-1.362553</td>\n      <td>-0.116449</td>\n      <td>3</td>\n      <td>1</td>\n      <td>2</td>\n      <td>1.251350</td>\n    </tr>\n    <tr>\n      <th>13093</th>\n      <td>100</td>\n      <td>196</td>\n      <td>1.518008</td>\n      <td>0.428459</td>\n      <td>-0.234855</td>\n      <td>-0.370266</td>\n      <td>0.188048</td>\n      <td>3.693768</td>\n      <td>0.107952</td>\n      <td>-0.316554</td>\n      <td>-0.780793</td>\n      <td>0.393408</td>\n      <td>1.155367</td>\n      <td>-1.085916</td>\n      <td>-0.781586</td>\n      <td>2</td>\n      <td>1</td>\n      <td>2</td>\n      <td>1.265868</td>\n    </tr>\n    <tr>\n      <th>13094</th>\n      <td>100</td>\n      <td>197</td>\n      <td>1.158038</td>\n      <td>0.728573</td>\n      <td>1.158419</td>\n      <td>0.002586</td>\n      <td>-0.375461</td>\n      <td>3.786150</td>\n      <td>0.257719</td>\n      <td>-0.113174</td>\n      <td>-0.224597</td>\n      <td>0.772033</td>\n      <td>1.155367</td>\n      <td>-0.864606</td>\n      <td>-0.182962</td>\n      <td>1</td>\n      <td>1</td>\n      <td>2</td>\n      <td>1.280386</td>\n    </tr>\n    <tr>\n      <th>13095</th>\n      <td>100</td>\n      <td>198</td>\n      <td>0.538089</td>\n      <td>1.809962</td>\n      <td>1.783948</td>\n      <td>-1.002983</td>\n      <td>-0.516338</td>\n      <td>4.066011</td>\n      <td>0.969114</td>\n      <td>-0.465700</td>\n      <td>-0.641744</td>\n      <td>1.283976</td>\n      <td>1.801059</td>\n      <td>-0.643296</td>\n      <td>-0.962652</td>\n      <td>0</td>\n      <td>1</td>\n      <td>2</td>\n      <td>1.294904</td>\n    </tr>\n  </tbody>\n</table>\n<p>13096 rows × 19 columns</p>\n</div>"
     },
     "execution_count": 17,
     "metadata": {},
     "output_type": "execute_result"
    }
   ],
   "source": [],
   "metadata": {
    "collapsed": false
   }
  },
  {
   "cell_type": "code",
   "execution_count": null,
   "outputs": [],
   "source": [
    "from train.train_lstm import lstm_data_preprocessing"
   ],
   "metadata": {
    "collapsed": false
   }
  },
  {
   "cell_type": "code",
   "execution_count": null,
   "outputs": [],
   "source": [],
   "metadata": {
    "collapsed": false
   }
  },
  {
   "cell_type": "code",
   "execution_count": null,
   "outputs": [],
   "source": [
    "def lstm_valid_evaluation(lstm_test_df,sequence_length, sequence_cols):\n",
    "    seq_array_test_last = [lstm_test_df[lstm_test_df['unit_number']==id][sequence_cols].values[-sequence_length:]\n",
    "                           for id in lstm_test_df['unit_number'].unique() if len(lstm_test_df[lstm_test_df['unit_number']==id]) >= sequence_length]\n",
    "    seq_array_test_last = np.asarray(seq_array_test_last).astype(np.float32)\n",
    "\n",
    "    y_mask = [len(lstm_test_df[lstm_test_df['unit_number']==id]) >= sequence_length for id in lstm_test_df['unit_number'].unique()]\n",
    "    label_array_test_last = lstm_test_df.groupby('unit_number')['RUL'].nth(-1)[y_mask].values\n",
    "    label_array_test_last = label_array_test_last.reshape(label_array_test_last.shape[0],1).astype(np.float32)\n",
    "    return seq_array_test_last,label_array_test_last"
   ],
   "metadata": {
    "collapsed": false
   }
  },
  {
   "cell_type": "code",
   "execution_count": null,
   "outputs": [],
   "source": [
    "seq_array_test,label_array=lstm_valid_evaluation(test_df,50,sequence_cols)"
   ],
   "metadata": {
    "collapsed": false
   }
  },
  {
   "cell_type": "code",
   "execution_count": null,
   "outputs": [],
   "source": [
    "test_last.shape"
   ],
   "metadata": {
    "collapsed": false
   }
  },
  {
   "cell_type": "code",
   "execution_count": null,
   "outputs": [],
   "source": [],
   "metadata": {
    "collapsed": false
   }
  },
  {
   "cell_type": "code",
   "execution_count": null,
   "outputs": [],
   "source": [],
   "metadata": {
    "collapsed": false
   }
  }
 ],
 "metadata": {
  "kernelspec": {
   "display_name": "Python 3",
   "language": "python",
   "name": "python3"
  },
  "language_info": {
   "codemirror_mode": {
    "name": "ipython",
    "version": 2
   },
   "file_extension": ".py",
   "mimetype": "text/x-python",
   "name": "python",
   "nbconvert_exporter": "python",
   "pygments_lexer": "ipython2",
   "version": "2.7.6"
  }
 },
 "nbformat": 4,
 "nbformat_minor": 0
}
