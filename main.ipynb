{
 "cells": [
  {
   "cell_type": "code",
   "execution_count": 17,
   "outputs": [],
   "source": [
    "from preprocessing.prepare_data import read_data,drop_columns,add_rul_column_to_train,add_rul_column_to_test,convert_rul_to_label,scale_data"
   ],
   "metadata": {
    "collapsed": false
   }
  },
  {
   "cell_type": "code",
   "execution_count": 15,
   "outputs": [
    {
     "name": "stdout",
     "output_type": "stream",
     "text": [
      "fd_001_train:        unit_number  time_in_cycles  setting_1  setting_2    TRA  FanInTemp  \\\n",
      "0                1               1    -0.0007    -0.0004  100.0     518.67   \n",
      "1                1               2     0.0019    -0.0003  100.0     518.67   \n",
      "2                1               3    -0.0043     0.0003  100.0     518.67   \n",
      "3                1               4     0.0007     0.0000  100.0     518.67   \n",
      "4                1               5    -0.0019    -0.0002  100.0     518.67   \n",
      "...            ...             ...        ...        ...    ...        ...   \n",
      "20626          100             196    -0.0004    -0.0003  100.0     518.67   \n",
      "20627          100             197    -0.0016    -0.0005  100.0     518.67   \n",
      "20628          100             198     0.0004     0.0000  100.0     518.67   \n",
      "20629          100             199    -0.0011     0.0003  100.0     518.67   \n",
      "20630          100             200    -0.0032    -0.0005  100.0     518.67   \n",
      "\n",
      "       LPCompOT  HPCompOT  LPTurbineOT  FanInP  ...  RFuelFlow  \\\n",
      "0        641.82   1589.70      1400.60   14.62  ...     521.66   \n",
      "1        642.15   1591.82      1403.14   14.62  ...     522.28   \n",
      "2        642.35   1587.99      1404.20   14.62  ...     522.42   \n",
      "3        642.35   1582.79      1401.87   14.62  ...     522.86   \n",
      "4        642.37   1582.85      1406.22   14.62  ...     522.19   \n",
      "...         ...       ...          ...     ...  ...        ...   \n",
      "20626    643.49   1597.98      1428.63   14.62  ...     519.49   \n",
      "20627    643.54   1604.50      1433.58   14.62  ...     519.68   \n",
      "20628    643.42   1602.46      1428.18   14.62  ...     520.01   \n",
      "20629    643.23   1605.26      1426.53   14.62  ...     519.67   \n",
      "20630    643.85   1600.38      1432.14   14.62  ...     519.30   \n",
      "\n",
      "       CorrectedFanSpeed  CorrectedCoreSpeed  BypassRatio  BurnerFuelAirRatio  \\\n",
      "0                2388.02             8138.62       8.4195                0.03   \n",
      "1                2388.07             8131.49       8.4318                0.03   \n",
      "2                2388.03             8133.23       8.4178                0.03   \n",
      "3                2388.08             8133.83       8.3682                0.03   \n",
      "4                2388.04             8133.80       8.4294                0.03   \n",
      "...                  ...                 ...          ...                 ...   \n",
      "20626            2388.26             8137.60       8.4956                0.03   \n",
      "20627            2388.22             8136.50       8.5139                0.03   \n",
      "20628            2388.24             8141.05       8.5646                0.03   \n",
      "20629            2388.23             8139.29       8.5389                0.03   \n",
      "20630            2388.26             8137.33       8.5036                0.03   \n",
      "\n",
      "       BleedEnthalpy  ReqFanSpeed  ReqFanConvSpeed  HPTurbineCoolAirFlow  \\\n",
      "0                392         2388            100.0                 39.06   \n",
      "1                392         2388            100.0                 39.00   \n",
      "2                390         2388            100.0                 38.95   \n",
      "3                392         2388            100.0                 38.88   \n",
      "4                393         2388            100.0                 38.90   \n",
      "...              ...          ...              ...                   ...   \n",
      "20626            397         2388            100.0                 38.49   \n",
      "20627            395         2388            100.0                 38.30   \n",
      "20628            398         2388            100.0                 38.44   \n",
      "20629            395         2388            100.0                 38.29   \n",
      "20630            396         2388            100.0                 38.37   \n",
      "\n",
      "       LPTurbineAirFlow  \n",
      "0               23.4190  \n",
      "1               23.4236  \n",
      "2               23.3442  \n",
      "3               23.3739  \n",
      "4               23.4044  \n",
      "...                 ...  \n",
      "20626           22.9735  \n",
      "20627           23.1594  \n",
      "20628           22.9333  \n",
      "20629           23.0640  \n",
      "20630           23.0522  \n",
      "\n",
      "[20631 rows x 26 columns]\n"
     ]
    },
    {
     "data": {
      "text/plain": "       unit_number  time_in_cycles  LPCompOT  HPCompOT  LPTurbineOT  HPCompOP  \\\n0                1               1    641.82   1589.70      1400.60    554.36   \n1                1               2    642.15   1591.82      1403.14    553.75   \n2                1               3    642.35   1587.99      1404.20    554.26   \n3                1               4    642.35   1582.79      1401.87    554.45   \n4                1               5    642.37   1582.85      1406.22    554.00   \n...            ...             ...       ...       ...          ...       ...   \n20626          100             196    643.49   1597.98      1428.63    551.43   \n20627          100             197    643.54   1604.50      1433.58    550.86   \n20628          100             198    643.42   1602.46      1428.18    550.94   \n20629          100             199    643.23   1605.26      1426.53    550.68   \n20630          100             200    643.85   1600.38      1432.14    550.79   \n\n       PhyFanSpeed  PhyCoreSpeed  HPCOStaticPre  RFuelFlow  CorrectedFanSpeed  \\\n0          2388.06       9046.19          47.47     521.66            2388.02   \n1          2388.04       9044.07          47.49     522.28            2388.07   \n2          2388.08       9052.94          47.27     522.42            2388.03   \n3          2388.11       9049.48          47.13     522.86            2388.08   \n4          2388.06       9055.15          47.28     522.19            2388.04   \n...            ...           ...            ...        ...                ...   \n20626      2388.19       9065.52          48.07     519.49            2388.26   \n20627      2388.23       9065.11          48.04     519.68            2388.22   \n20628      2388.24       9065.90          48.09     520.01            2388.24   \n20629      2388.25       9073.72          48.39     519.67            2388.23   \n20630      2388.26       9061.48          48.20     519.30            2388.26   \n\n       BypassRatio  BleedEnthalpy  HPTurbineCoolAirFlow  LPTurbineAirFlow  RUL  \n0           8.4195            392                 39.06           23.4190  191  \n1           8.4318            392                 39.00           23.4236  190  \n2           8.4178            390                 38.95           23.3442  189  \n3           8.3682            392                 38.88           23.3739  188  \n4           8.4294            393                 38.90           23.4044  187  \n...            ...            ...                   ...               ...  ...  \n20626       8.4956            397                 38.49           22.9735    4  \n20627       8.5139            395                 38.30           23.1594    3  \n20628       8.5646            398                 38.44           22.9333    2  \n20629       8.5389            395                 38.29           23.0640    1  \n20630       8.5036            396                 38.37           23.0522    0  \n\n[20631 rows x 16 columns]",
      "text/html": "<div>\n<style scoped>\n    .dataframe tbody tr th:only-of-type {\n        vertical-align: middle;\n    }\n\n    .dataframe tbody tr th {\n        vertical-align: top;\n    }\n\n    .dataframe thead th {\n        text-align: right;\n    }\n</style>\n<table border=\"1\" class=\"dataframe\">\n  <thead>\n    <tr style=\"text-align: right;\">\n      <th></th>\n      <th>unit_number</th>\n      <th>time_in_cycles</th>\n      <th>LPCompOT</th>\n      <th>HPCompOT</th>\n      <th>LPTurbineOT</th>\n      <th>HPCompOP</th>\n      <th>PhyFanSpeed</th>\n      <th>PhyCoreSpeed</th>\n      <th>HPCOStaticPre</th>\n      <th>RFuelFlow</th>\n      <th>CorrectedFanSpeed</th>\n      <th>BypassRatio</th>\n      <th>BleedEnthalpy</th>\n      <th>HPTurbineCoolAirFlow</th>\n      <th>LPTurbineAirFlow</th>\n      <th>RUL</th>\n    </tr>\n  </thead>\n  <tbody>\n    <tr>\n      <th>0</th>\n      <td>1</td>\n      <td>1</td>\n      <td>641.82</td>\n      <td>1589.70</td>\n      <td>1400.60</td>\n      <td>554.36</td>\n      <td>2388.06</td>\n      <td>9046.19</td>\n      <td>47.47</td>\n      <td>521.66</td>\n      <td>2388.02</td>\n      <td>8.4195</td>\n      <td>392</td>\n      <td>39.06</td>\n      <td>23.4190</td>\n      <td>191</td>\n    </tr>\n    <tr>\n      <th>1</th>\n      <td>1</td>\n      <td>2</td>\n      <td>642.15</td>\n      <td>1591.82</td>\n      <td>1403.14</td>\n      <td>553.75</td>\n      <td>2388.04</td>\n      <td>9044.07</td>\n      <td>47.49</td>\n      <td>522.28</td>\n      <td>2388.07</td>\n      <td>8.4318</td>\n      <td>392</td>\n      <td>39.00</td>\n      <td>23.4236</td>\n      <td>190</td>\n    </tr>\n    <tr>\n      <th>2</th>\n      <td>1</td>\n      <td>3</td>\n      <td>642.35</td>\n      <td>1587.99</td>\n      <td>1404.20</td>\n      <td>554.26</td>\n      <td>2388.08</td>\n      <td>9052.94</td>\n      <td>47.27</td>\n      <td>522.42</td>\n      <td>2388.03</td>\n      <td>8.4178</td>\n      <td>390</td>\n      <td>38.95</td>\n      <td>23.3442</td>\n      <td>189</td>\n    </tr>\n    <tr>\n      <th>3</th>\n      <td>1</td>\n      <td>4</td>\n      <td>642.35</td>\n      <td>1582.79</td>\n      <td>1401.87</td>\n      <td>554.45</td>\n      <td>2388.11</td>\n      <td>9049.48</td>\n      <td>47.13</td>\n      <td>522.86</td>\n      <td>2388.08</td>\n      <td>8.3682</td>\n      <td>392</td>\n      <td>38.88</td>\n      <td>23.3739</td>\n      <td>188</td>\n    </tr>\n    <tr>\n      <th>4</th>\n      <td>1</td>\n      <td>5</td>\n      <td>642.37</td>\n      <td>1582.85</td>\n      <td>1406.22</td>\n      <td>554.00</td>\n      <td>2388.06</td>\n      <td>9055.15</td>\n      <td>47.28</td>\n      <td>522.19</td>\n      <td>2388.04</td>\n      <td>8.4294</td>\n      <td>393</td>\n      <td>38.90</td>\n      <td>23.4044</td>\n      <td>187</td>\n    </tr>\n    <tr>\n      <th>...</th>\n      <td>...</td>\n      <td>...</td>\n      <td>...</td>\n      <td>...</td>\n      <td>...</td>\n      <td>...</td>\n      <td>...</td>\n      <td>...</td>\n      <td>...</td>\n      <td>...</td>\n      <td>...</td>\n      <td>...</td>\n      <td>...</td>\n      <td>...</td>\n      <td>...</td>\n      <td>...</td>\n    </tr>\n    <tr>\n      <th>20626</th>\n      <td>100</td>\n      <td>196</td>\n      <td>643.49</td>\n      <td>1597.98</td>\n      <td>1428.63</td>\n      <td>551.43</td>\n      <td>2388.19</td>\n      <td>9065.52</td>\n      <td>48.07</td>\n      <td>519.49</td>\n      <td>2388.26</td>\n      <td>8.4956</td>\n      <td>397</td>\n      <td>38.49</td>\n      <td>22.9735</td>\n      <td>4</td>\n    </tr>\n    <tr>\n      <th>20627</th>\n      <td>100</td>\n      <td>197</td>\n      <td>643.54</td>\n      <td>1604.50</td>\n      <td>1433.58</td>\n      <td>550.86</td>\n      <td>2388.23</td>\n      <td>9065.11</td>\n      <td>48.04</td>\n      <td>519.68</td>\n      <td>2388.22</td>\n      <td>8.5139</td>\n      <td>395</td>\n      <td>38.30</td>\n      <td>23.1594</td>\n      <td>3</td>\n    </tr>\n    <tr>\n      <th>20628</th>\n      <td>100</td>\n      <td>198</td>\n      <td>643.42</td>\n      <td>1602.46</td>\n      <td>1428.18</td>\n      <td>550.94</td>\n      <td>2388.24</td>\n      <td>9065.90</td>\n      <td>48.09</td>\n      <td>520.01</td>\n      <td>2388.24</td>\n      <td>8.5646</td>\n      <td>398</td>\n      <td>38.44</td>\n      <td>22.9333</td>\n      <td>2</td>\n    </tr>\n    <tr>\n      <th>20629</th>\n      <td>100</td>\n      <td>199</td>\n      <td>643.23</td>\n      <td>1605.26</td>\n      <td>1426.53</td>\n      <td>550.68</td>\n      <td>2388.25</td>\n      <td>9073.72</td>\n      <td>48.39</td>\n      <td>519.67</td>\n      <td>2388.23</td>\n      <td>8.5389</td>\n      <td>395</td>\n      <td>38.29</td>\n      <td>23.0640</td>\n      <td>1</td>\n    </tr>\n    <tr>\n      <th>20630</th>\n      <td>100</td>\n      <td>200</td>\n      <td>643.85</td>\n      <td>1600.38</td>\n      <td>1432.14</td>\n      <td>550.79</td>\n      <td>2388.26</td>\n      <td>9061.48</td>\n      <td>48.20</td>\n      <td>519.30</td>\n      <td>2388.26</td>\n      <td>8.5036</td>\n      <td>396</td>\n      <td>38.37</td>\n      <td>23.0522</td>\n      <td>0</td>\n    </tr>\n  </tbody>\n</table>\n<p>20631 rows × 16 columns</p>\n</div>"
     },
     "execution_count": 15,
     "metadata": {},
     "output_type": "execute_result"
    }
   ],
   "source": [
    "fd_001_train,fd_001_test,RUL_1=read_data()\n",
    "print(f\"fd_001_train: {fd_001_train}\")\n",
    "constant_columns=['ReqFanSpeed','ReqFanConvSpeed','FanInP','FanInTemp','TRA','BurnerFuelAirRatio','EngPreRatio']\n",
    "correlated_columns=['setting_1','setting_2','BypassDuctP','CorrectedCoreSpeed']\n",
    "fd_001_train=drop_columns(fd_001_train,constant_columns+correlated_columns)\n",
    "train_df=add_rul_column_to_train(fd_001_train)"
   ],
   "metadata": {
    "collapsed": false
   }
  },
  {
   "cell_type": "code",
   "execution_count": 16,
   "outputs": [
    {
     "data": {
      "text/plain": "       unit_number  time_in_cycles  setting_1  setting_2  LPCompOT  HPCompOT  \\\n0                1               1     0.0023     0.0003    643.02   1585.29   \n1                1               2    -0.0027    -0.0003    641.71   1588.45   \n2                1               3     0.0003     0.0001    642.46   1586.94   \n3                1               4     0.0042     0.0000    642.44   1584.12   \n4                1               5     0.0014     0.0000    642.51   1587.19   \n...            ...             ...        ...        ...       ...       ...   \n13091          100             194     0.0049     0.0000    643.24   1599.45   \n13092          100             195    -0.0011    -0.0001    643.22   1595.69   \n13093          100             196    -0.0006    -0.0003    643.44   1593.15   \n13094          100             197    -0.0038     0.0001    643.26   1594.99   \n13095          100             198     0.0013     0.0003    642.95   1601.62   \n\n       LPTurbineOT  BypassDuctP  HPCompOP  PhyFanSpeed  PhyCoreSpeed  \\\n0          1398.21        21.61    553.90      2388.04       9050.17   \n1          1395.42        21.61    554.85      2388.01       9054.42   \n2          1401.34        21.61    554.11      2388.05       9056.96   \n3          1406.42        21.61    554.07      2388.03       9045.29   \n4          1401.92        21.61    554.16      2388.01       9044.55   \n...            ...          ...       ...          ...           ...   \n13091      1415.79        21.61    553.41      2388.02       9142.37   \n13092      1422.05        21.61    553.22      2388.05       9140.68   \n13093      1406.82        21.61    553.04      2388.11       9146.81   \n13094      1419.36        21.61    553.37      2388.07       9148.85   \n13095      1424.99        21.61    552.48      2388.06       9155.03   \n\n       HPCOStaticPre  RFuelFlow  CorrectedFanSpeed  CorrectedCoreSpeed  \\\n0              47.20     521.72            2388.03             8125.55   \n1              47.50     522.16            2388.06             8139.62   \n2              47.50     521.97            2388.03             8130.10   \n3              47.28     521.38            2388.05             8132.90   \n4              47.31     522.15            2388.03             8129.54   \n...              ...        ...                ...                 ...   \n13091          47.69     520.69            2388.00             8213.28   \n13092          47.60     521.05            2388.09             8210.85   \n13093          47.57     521.18            2388.04             8217.24   \n13094          47.61     521.33            2388.08             8220.48   \n13095          47.80     521.07            2388.05             8214.64   \n\n       BypassRatio  BleedEnthalpy  HPTurbineCoolAirFlow  LPTurbineAirFlow  max  \n0           8.4052            392                 38.86           23.3735   31  \n1           8.3803            393                 39.02           23.3916   31  \n2           8.4441            393                 39.08           23.4166   31  \n3           8.3917            391                 39.00           23.3737   31  \n4           8.4031            390                 38.99           23.4130   31  \n...            ...            ...                   ...               ...  ...  \n13091       8.4715            394                 38.65           23.1974  198  \n13092       8.4512            395                 38.57           23.2771  198  \n13093       8.4569            395                 38.62           23.2051  198  \n13094       8.4711            395                 38.66           23.2699  198  \n13095       8.4903            396                 38.70           23.1855  198  \n\n[13096 rows x 20 columns]",
      "text/html": "<div>\n<style scoped>\n    .dataframe tbody tr th:only-of-type {\n        vertical-align: middle;\n    }\n\n    .dataframe tbody tr th {\n        vertical-align: top;\n    }\n\n    .dataframe thead th {\n        text-align: right;\n    }\n</style>\n<table border=\"1\" class=\"dataframe\">\n  <thead>\n    <tr style=\"text-align: right;\">\n      <th></th>\n      <th>unit_number</th>\n      <th>time_in_cycles</th>\n      <th>setting_1</th>\n      <th>setting_2</th>\n      <th>LPCompOT</th>\n      <th>HPCompOT</th>\n      <th>LPTurbineOT</th>\n      <th>BypassDuctP</th>\n      <th>HPCompOP</th>\n      <th>PhyFanSpeed</th>\n      <th>PhyCoreSpeed</th>\n      <th>HPCOStaticPre</th>\n      <th>RFuelFlow</th>\n      <th>CorrectedFanSpeed</th>\n      <th>CorrectedCoreSpeed</th>\n      <th>BypassRatio</th>\n      <th>BleedEnthalpy</th>\n      <th>HPTurbineCoolAirFlow</th>\n      <th>LPTurbineAirFlow</th>\n      <th>max</th>\n    </tr>\n  </thead>\n  <tbody>\n    <tr>\n      <th>0</th>\n      <td>1</td>\n      <td>1</td>\n      <td>0.0023</td>\n      <td>0.0003</td>\n      <td>643.02</td>\n      <td>1585.29</td>\n      <td>1398.21</td>\n      <td>21.61</td>\n      <td>553.90</td>\n      <td>2388.04</td>\n      <td>9050.17</td>\n      <td>47.20</td>\n      <td>521.72</td>\n      <td>2388.03</td>\n      <td>8125.55</td>\n      <td>8.4052</td>\n      <td>392</td>\n      <td>38.86</td>\n      <td>23.3735</td>\n      <td>31</td>\n    </tr>\n    <tr>\n      <th>1</th>\n      <td>1</td>\n      <td>2</td>\n      <td>-0.0027</td>\n      <td>-0.0003</td>\n      <td>641.71</td>\n      <td>1588.45</td>\n      <td>1395.42</td>\n      <td>21.61</td>\n      <td>554.85</td>\n      <td>2388.01</td>\n      <td>9054.42</td>\n      <td>47.50</td>\n      <td>522.16</td>\n      <td>2388.06</td>\n      <td>8139.62</td>\n      <td>8.3803</td>\n      <td>393</td>\n      <td>39.02</td>\n      <td>23.3916</td>\n      <td>31</td>\n    </tr>\n    <tr>\n      <th>2</th>\n      <td>1</td>\n      <td>3</td>\n      <td>0.0003</td>\n      <td>0.0001</td>\n      <td>642.46</td>\n      <td>1586.94</td>\n      <td>1401.34</td>\n      <td>21.61</td>\n      <td>554.11</td>\n      <td>2388.05</td>\n      <td>9056.96</td>\n      <td>47.50</td>\n      <td>521.97</td>\n      <td>2388.03</td>\n      <td>8130.10</td>\n      <td>8.4441</td>\n      <td>393</td>\n      <td>39.08</td>\n      <td>23.4166</td>\n      <td>31</td>\n    </tr>\n    <tr>\n      <th>3</th>\n      <td>1</td>\n      <td>4</td>\n      <td>0.0042</td>\n      <td>0.0000</td>\n      <td>642.44</td>\n      <td>1584.12</td>\n      <td>1406.42</td>\n      <td>21.61</td>\n      <td>554.07</td>\n      <td>2388.03</td>\n      <td>9045.29</td>\n      <td>47.28</td>\n      <td>521.38</td>\n      <td>2388.05</td>\n      <td>8132.90</td>\n      <td>8.3917</td>\n      <td>391</td>\n      <td>39.00</td>\n      <td>23.3737</td>\n      <td>31</td>\n    </tr>\n    <tr>\n      <th>4</th>\n      <td>1</td>\n      <td>5</td>\n      <td>0.0014</td>\n      <td>0.0000</td>\n      <td>642.51</td>\n      <td>1587.19</td>\n      <td>1401.92</td>\n      <td>21.61</td>\n      <td>554.16</td>\n      <td>2388.01</td>\n      <td>9044.55</td>\n      <td>47.31</td>\n      <td>522.15</td>\n      <td>2388.03</td>\n      <td>8129.54</td>\n      <td>8.4031</td>\n      <td>390</td>\n      <td>38.99</td>\n      <td>23.4130</td>\n      <td>31</td>\n    </tr>\n    <tr>\n      <th>...</th>\n      <td>...</td>\n      <td>...</td>\n      <td>...</td>\n      <td>...</td>\n      <td>...</td>\n      <td>...</td>\n      <td>...</td>\n      <td>...</td>\n      <td>...</td>\n      <td>...</td>\n      <td>...</td>\n      <td>...</td>\n      <td>...</td>\n      <td>...</td>\n      <td>...</td>\n      <td>...</td>\n      <td>...</td>\n      <td>...</td>\n      <td>...</td>\n      <td>...</td>\n    </tr>\n    <tr>\n      <th>13091</th>\n      <td>100</td>\n      <td>194</td>\n      <td>0.0049</td>\n      <td>0.0000</td>\n      <td>643.24</td>\n      <td>1599.45</td>\n      <td>1415.79</td>\n      <td>21.61</td>\n      <td>553.41</td>\n      <td>2388.02</td>\n      <td>9142.37</td>\n      <td>47.69</td>\n      <td>520.69</td>\n      <td>2388.00</td>\n      <td>8213.28</td>\n      <td>8.4715</td>\n      <td>394</td>\n      <td>38.65</td>\n      <td>23.1974</td>\n      <td>198</td>\n    </tr>\n    <tr>\n      <th>13092</th>\n      <td>100</td>\n      <td>195</td>\n      <td>-0.0011</td>\n      <td>-0.0001</td>\n      <td>643.22</td>\n      <td>1595.69</td>\n      <td>1422.05</td>\n      <td>21.61</td>\n      <td>553.22</td>\n      <td>2388.05</td>\n      <td>9140.68</td>\n      <td>47.60</td>\n      <td>521.05</td>\n      <td>2388.09</td>\n      <td>8210.85</td>\n      <td>8.4512</td>\n      <td>395</td>\n      <td>38.57</td>\n      <td>23.2771</td>\n      <td>198</td>\n    </tr>\n    <tr>\n      <th>13093</th>\n      <td>100</td>\n      <td>196</td>\n      <td>-0.0006</td>\n      <td>-0.0003</td>\n      <td>643.44</td>\n      <td>1593.15</td>\n      <td>1406.82</td>\n      <td>21.61</td>\n      <td>553.04</td>\n      <td>2388.11</td>\n      <td>9146.81</td>\n      <td>47.57</td>\n      <td>521.18</td>\n      <td>2388.04</td>\n      <td>8217.24</td>\n      <td>8.4569</td>\n      <td>395</td>\n      <td>38.62</td>\n      <td>23.2051</td>\n      <td>198</td>\n    </tr>\n    <tr>\n      <th>13094</th>\n      <td>100</td>\n      <td>197</td>\n      <td>-0.0038</td>\n      <td>0.0001</td>\n      <td>643.26</td>\n      <td>1594.99</td>\n      <td>1419.36</td>\n      <td>21.61</td>\n      <td>553.37</td>\n      <td>2388.07</td>\n      <td>9148.85</td>\n      <td>47.61</td>\n      <td>521.33</td>\n      <td>2388.08</td>\n      <td>8220.48</td>\n      <td>8.4711</td>\n      <td>395</td>\n      <td>38.66</td>\n      <td>23.2699</td>\n      <td>198</td>\n    </tr>\n    <tr>\n      <th>13095</th>\n      <td>100</td>\n      <td>198</td>\n      <td>0.0013</td>\n      <td>0.0003</td>\n      <td>642.95</td>\n      <td>1601.62</td>\n      <td>1424.99</td>\n      <td>21.61</td>\n      <td>552.48</td>\n      <td>2388.06</td>\n      <td>9155.03</td>\n      <td>47.80</td>\n      <td>521.07</td>\n      <td>2388.05</td>\n      <td>8214.64</td>\n      <td>8.4903</td>\n      <td>396</td>\n      <td>38.70</td>\n      <td>23.1855</td>\n      <td>198</td>\n    </tr>\n  </tbody>\n</table>\n<p>13096 rows × 20 columns</p>\n</div>"
     },
     "execution_count": 16,
     "metadata": {},
     "output_type": "execute_result"
    }
   ],
   "source": [
    "drop_columns(fd_001_test,constant_columns)\n",
    "test_max=fd_001_test.groupby('unit_number')['time_in_cycles'].max().reset_index()\n",
    "test_max.columns=['unit_number','max']\n",
    "fd_001_test=fd_001_test.merge(test_max,on=['unit_number'],how='left')\n",
    "fd_001_test"
   ],
   "metadata": {
    "collapsed": false
   }
  },
  {
   "cell_type": "code",
   "execution_count": 13,
   "outputs": [],
   "source": [],
   "metadata": {
    "collapsed": false
   }
  }
 ],
 "metadata": {
  "kernelspec": {
   "display_name": "Python 3",
   "language": "python",
   "name": "python3"
  },
  "language_info": {
   "codemirror_mode": {
    "name": "ipython",
    "version": 2
   },
   "file_extension": ".py",
   "mimetype": "text/x-python",
   "name": "python",
   "nbconvert_exporter": "python",
   "pygments_lexer": "ipython2",
   "version": "2.7.6"
  }
 },
 "nbformat": 4,
 "nbformat_minor": 0
}
