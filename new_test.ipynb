{
 "cells": [
  {
   "cell_type": "code",
   "execution_count": 3,
   "metadata": {
    "collapsed": true,
    "ExecuteTime": {
     "start_time": "2023-07-11T08:44:43.829694Z",
     "end_time": "2023-07-11T08:44:45.724130Z"
    }
   },
   "outputs": [],
   "source": [
    "import pandas as pd\n",
    "import numpy as np"
   ]
  },
  {
   "cell_type": "code",
   "execution_count": 7,
   "outputs": [
    {
     "data": {
      "text/plain": "         1  1.1  0.0023  0.0003  100.0  518.67  643.02  1585.29  1398.21   \n0        1    2 -0.0027 -0.0003  100.0  518.67  641.71  1588.45  1395.42  \\\n1        1    3  0.0003  0.0001  100.0  518.67  642.46  1586.94  1401.34   \n2        1    4  0.0042  0.0000  100.0  518.67  642.44  1584.12  1406.42   \n3        1    5  0.0014  0.0000  100.0  518.67  642.51  1587.19  1401.92   \n4        1    6  0.0012  0.0003  100.0  518.67  642.11  1579.12  1395.13   \n...    ...  ...     ...     ...    ...     ...     ...      ...      ...   \n13090  100  194  0.0049  0.0000  100.0  518.67  643.24  1599.45  1415.79   \n13091  100  195 -0.0011 -0.0001  100.0  518.67  643.22  1595.69  1422.05   \n13092  100  196 -0.0006 -0.0003  100.0  518.67  643.44  1593.15  1406.82   \n13093  100  197 -0.0038  0.0001  100.0  518.67  643.26  1594.99  1419.36   \n13094  100  198  0.0013  0.0003  100.0  518.67  642.95  1601.62  1424.99   \n\n       14.62  ...  8125.55  8.4052  0.03  392  2388  100.00  38.86  23.3735   \n0      14.62  ...  8139.62  8.3803  0.03  393  2388   100.0  39.02  23.3916  \\\n1      14.62  ...  8130.10  8.4441  0.03  393  2388   100.0  39.08  23.4166   \n2      14.62  ...  8132.90  8.3917  0.03  391  2388   100.0  39.00  23.3737   \n3      14.62  ...  8129.54  8.4031  0.03  390  2388   100.0  38.99  23.4130   \n4      14.62  ...  8127.46  8.4238  0.03  392  2388   100.0  38.91  23.3467   \n...      ...  ...      ...     ...   ...  ...   ...     ...    ...      ...   \n13090  14.62  ...  8213.28  8.4715  0.03  394  2388   100.0  38.65  23.1974   \n13091  14.62  ...  8210.85  8.4512  0.03  395  2388   100.0  38.57  23.2771   \n13092  14.62  ...  8217.24  8.4569  0.03  395  2388   100.0  38.62  23.2051   \n13093  14.62  ...  8220.48  8.4711  0.03  395  2388   100.0  38.66  23.2699   \n13094  14.62  ...  8214.64  8.4903  0.03  396  2388   100.0  38.70  23.1855   \n\n       Unnamed: 26  Unnamed: 27  \n0              NaN          NaN  \n1              NaN          NaN  \n2              NaN          NaN  \n3              NaN          NaN  \n4              NaN          NaN  \n...            ...          ...  \n13090          NaN          NaN  \n13091          NaN          NaN  \n13092          NaN          NaN  \n13093          NaN          NaN  \n13094          NaN          NaN  \n\n[13095 rows x 28 columns]",
      "text/html": "<div>\n<style scoped>\n    .dataframe tbody tr th:only-of-type {\n        vertical-align: middle;\n    }\n\n    .dataframe tbody tr th {\n        vertical-align: top;\n    }\n\n    .dataframe thead th {\n        text-align: right;\n    }\n</style>\n<table border=\"1\" class=\"dataframe\">\n  <thead>\n    <tr style=\"text-align: right;\">\n      <th></th>\n      <th>1</th>\n      <th>1.1</th>\n      <th>0.0023</th>\n      <th>0.0003</th>\n      <th>100.0</th>\n      <th>518.67</th>\n      <th>643.02</th>\n      <th>1585.29</th>\n      <th>1398.21</th>\n      <th>14.62</th>\n      <th>...</th>\n      <th>8125.55</th>\n      <th>8.4052</th>\n      <th>0.03</th>\n      <th>392</th>\n      <th>2388</th>\n      <th>100.00</th>\n      <th>38.86</th>\n      <th>23.3735</th>\n      <th>Unnamed: 26</th>\n      <th>Unnamed: 27</th>\n    </tr>\n  </thead>\n  <tbody>\n    <tr>\n      <th>0</th>\n      <td>1</td>\n      <td>2</td>\n      <td>-0.0027</td>\n      <td>-0.0003</td>\n      <td>100.0</td>\n      <td>518.67</td>\n      <td>641.71</td>\n      <td>1588.45</td>\n      <td>1395.42</td>\n      <td>14.62</td>\n      <td>...</td>\n      <td>8139.62</td>\n      <td>8.3803</td>\n      <td>0.03</td>\n      <td>393</td>\n      <td>2388</td>\n      <td>100.0</td>\n      <td>39.02</td>\n      <td>23.3916</td>\n      <td>NaN</td>\n      <td>NaN</td>\n    </tr>\n    <tr>\n      <th>1</th>\n      <td>1</td>\n      <td>3</td>\n      <td>0.0003</td>\n      <td>0.0001</td>\n      <td>100.0</td>\n      <td>518.67</td>\n      <td>642.46</td>\n      <td>1586.94</td>\n      <td>1401.34</td>\n      <td>14.62</td>\n      <td>...</td>\n      <td>8130.10</td>\n      <td>8.4441</td>\n      <td>0.03</td>\n      <td>393</td>\n      <td>2388</td>\n      <td>100.0</td>\n      <td>39.08</td>\n      <td>23.4166</td>\n      <td>NaN</td>\n      <td>NaN</td>\n    </tr>\n    <tr>\n      <th>2</th>\n      <td>1</td>\n      <td>4</td>\n      <td>0.0042</td>\n      <td>0.0000</td>\n      <td>100.0</td>\n      <td>518.67</td>\n      <td>642.44</td>\n      <td>1584.12</td>\n      <td>1406.42</td>\n      <td>14.62</td>\n      <td>...</td>\n      <td>8132.90</td>\n      <td>8.3917</td>\n      <td>0.03</td>\n      <td>391</td>\n      <td>2388</td>\n      <td>100.0</td>\n      <td>39.00</td>\n      <td>23.3737</td>\n      <td>NaN</td>\n      <td>NaN</td>\n    </tr>\n    <tr>\n      <th>3</th>\n      <td>1</td>\n      <td>5</td>\n      <td>0.0014</td>\n      <td>0.0000</td>\n      <td>100.0</td>\n      <td>518.67</td>\n      <td>642.51</td>\n      <td>1587.19</td>\n      <td>1401.92</td>\n      <td>14.62</td>\n      <td>...</td>\n      <td>8129.54</td>\n      <td>8.4031</td>\n      <td>0.03</td>\n      <td>390</td>\n      <td>2388</td>\n      <td>100.0</td>\n      <td>38.99</td>\n      <td>23.4130</td>\n      <td>NaN</td>\n      <td>NaN</td>\n    </tr>\n    <tr>\n      <th>4</th>\n      <td>1</td>\n      <td>6</td>\n      <td>0.0012</td>\n      <td>0.0003</td>\n      <td>100.0</td>\n      <td>518.67</td>\n      <td>642.11</td>\n      <td>1579.12</td>\n      <td>1395.13</td>\n      <td>14.62</td>\n      <td>...</td>\n      <td>8127.46</td>\n      <td>8.4238</td>\n      <td>0.03</td>\n      <td>392</td>\n      <td>2388</td>\n      <td>100.0</td>\n      <td>38.91</td>\n      <td>23.3467</td>\n      <td>NaN</td>\n      <td>NaN</td>\n    </tr>\n    <tr>\n      <th>...</th>\n      <td>...</td>\n      <td>...</td>\n      <td>...</td>\n      <td>...</td>\n      <td>...</td>\n      <td>...</td>\n      <td>...</td>\n      <td>...</td>\n      <td>...</td>\n      <td>...</td>\n      <td>...</td>\n      <td>...</td>\n      <td>...</td>\n      <td>...</td>\n      <td>...</td>\n      <td>...</td>\n      <td>...</td>\n      <td>...</td>\n      <td>...</td>\n      <td>...</td>\n      <td>...</td>\n    </tr>\n    <tr>\n      <th>13090</th>\n      <td>100</td>\n      <td>194</td>\n      <td>0.0049</td>\n      <td>0.0000</td>\n      <td>100.0</td>\n      <td>518.67</td>\n      <td>643.24</td>\n      <td>1599.45</td>\n      <td>1415.79</td>\n      <td>14.62</td>\n      <td>...</td>\n      <td>8213.28</td>\n      <td>8.4715</td>\n      <td>0.03</td>\n      <td>394</td>\n      <td>2388</td>\n      <td>100.0</td>\n      <td>38.65</td>\n      <td>23.1974</td>\n      <td>NaN</td>\n      <td>NaN</td>\n    </tr>\n    <tr>\n      <th>13091</th>\n      <td>100</td>\n      <td>195</td>\n      <td>-0.0011</td>\n      <td>-0.0001</td>\n      <td>100.0</td>\n      <td>518.67</td>\n      <td>643.22</td>\n      <td>1595.69</td>\n      <td>1422.05</td>\n      <td>14.62</td>\n      <td>...</td>\n      <td>8210.85</td>\n      <td>8.4512</td>\n      <td>0.03</td>\n      <td>395</td>\n      <td>2388</td>\n      <td>100.0</td>\n      <td>38.57</td>\n      <td>23.2771</td>\n      <td>NaN</td>\n      <td>NaN</td>\n    </tr>\n    <tr>\n      <th>13092</th>\n      <td>100</td>\n      <td>196</td>\n      <td>-0.0006</td>\n      <td>-0.0003</td>\n      <td>100.0</td>\n      <td>518.67</td>\n      <td>643.44</td>\n      <td>1593.15</td>\n      <td>1406.82</td>\n      <td>14.62</td>\n      <td>...</td>\n      <td>8217.24</td>\n      <td>8.4569</td>\n      <td>0.03</td>\n      <td>395</td>\n      <td>2388</td>\n      <td>100.0</td>\n      <td>38.62</td>\n      <td>23.2051</td>\n      <td>NaN</td>\n      <td>NaN</td>\n    </tr>\n    <tr>\n      <th>13093</th>\n      <td>100</td>\n      <td>197</td>\n      <td>-0.0038</td>\n      <td>0.0001</td>\n      <td>100.0</td>\n      <td>518.67</td>\n      <td>643.26</td>\n      <td>1594.99</td>\n      <td>1419.36</td>\n      <td>14.62</td>\n      <td>...</td>\n      <td>8220.48</td>\n      <td>8.4711</td>\n      <td>0.03</td>\n      <td>395</td>\n      <td>2388</td>\n      <td>100.0</td>\n      <td>38.66</td>\n      <td>23.2699</td>\n      <td>NaN</td>\n      <td>NaN</td>\n    </tr>\n    <tr>\n      <th>13094</th>\n      <td>100</td>\n      <td>198</td>\n      <td>0.0013</td>\n      <td>0.0003</td>\n      <td>100.0</td>\n      <td>518.67</td>\n      <td>642.95</td>\n      <td>1601.62</td>\n      <td>1424.99</td>\n      <td>14.62</td>\n      <td>...</td>\n      <td>8214.64</td>\n      <td>8.4903</td>\n      <td>0.03</td>\n      <td>396</td>\n      <td>2388</td>\n      <td>100.0</td>\n      <td>38.70</td>\n      <td>23.1855</td>\n      <td>NaN</td>\n      <td>NaN</td>\n    </tr>\n  </tbody>\n</table>\n<p>13095 rows × 28 columns</p>\n</div>"
     },
     "execution_count": 7,
     "metadata": {},
     "output_type": "execute_result"
    }
   ],
   "source": [
    "\n",
    "df = pd.read_csv(\"test_fd001.txt\", sep=\" \")\n",
    "df"
   ],
   "metadata": {
    "collapsed": false,
    "ExecuteTime": {
     "start_time": "2023-07-10T14:36:28.541954Z",
     "end_time": "2023-07-10T14:36:28.615991Z"
    }
   }
  },
  {
   "cell_type": "code",
   "execution_count": 28,
   "outputs": [
    {
     "data": {
      "text/plain": "         1  1.1   9.9987  0.2502  100.0  489.05  605.03  1497.17  1304.99   \n0        1    2  20.0026  0.7000  100.0  491.19  607.82  1481.20  1246.11  \\\n1        1    3  35.0045  0.8400  100.0  449.44  556.00  1359.08  1128.36   \n2        1    4  42.0066  0.8410  100.0  445.00  550.17  1349.69  1127.89   \n3        1    5  24.9985  0.6213   60.0  462.54  536.72  1253.18  1050.69   \n4        1    6  25.0006  0.6206   60.0  462.54  536.62  1258.90  1047.35   \n...    ...  ...      ...     ...    ...     ...     ...      ...      ...   \n33985  259  119  35.0015  0.8403  100.0  449.44  555.56  1366.01  1129.47   \n33986  259  120  42.0066  0.8405  100.0  445.00  549.42  1351.13  1123.86   \n33987  259  121  42.0061  0.8400  100.0  445.00  549.65  1349.14  1118.91   \n33988  259  122   0.0024  0.0003  100.0  518.67  642.58  1589.61  1408.16   \n33989  259  123  42.0033  0.8400  100.0  445.00  549.77  1342.50  1126.96   \n\n       10.52  ...  8114.10   8.6476  0.03  369  2319  100.00  28.42  17.1551   \n0       9.35  ...  8053.06   9.2405  0.02  364  2324  100.00  24.29  14.8039  \\\n1       5.48  ...  8053.04   9.3472  0.02  333  2223  100.00  14.98   8.9125   \n2       3.91  ...  8066.90   9.3961  0.02  332  2212  100.00  10.35   6.4181   \n3       7.05  ...  7865.66  10.8682  0.02  305  1915   84.93  14.31   8.5740   \n4       7.05  ...  7859.98  10.9378  0.02  307  1915   84.93  14.26   8.4941   \n...      ...  ...      ...      ...   ...  ...   ...     ...    ...      ...   \n33985   5.48  ...  8088.36   9.3215  0.02  334  2223  100.00  14.94   8.9065   \n33986   3.91  ...  8108.48   9.3542  0.02  332  2212  100.00  10.57   6.4075   \n33987   3.91  ...  8098.77   9.3836  0.02  331  2212  100.00  10.57   6.4805   \n33988  14.62  ...  8161.85   8.4279  0.03  393  2388  100.00  39.08  23.3589   \n33989   3.91  ...  8105.28   9.3458  0.02  331  2212  100.00  10.63   6.3480   \n\n       Unnamed: 26  Unnamed: 27  \n0              NaN          NaN  \n1              NaN          NaN  \n2              NaN          NaN  \n3              NaN          NaN  \n4              NaN          NaN  \n...            ...          ...  \n33985          NaN          NaN  \n33986          NaN          NaN  \n33987          NaN          NaN  \n33988          NaN          NaN  \n33989          NaN          NaN  \n\n[33990 rows x 28 columns]",
      "text/html": "<div>\n<style scoped>\n    .dataframe tbody tr th:only-of-type {\n        vertical-align: middle;\n    }\n\n    .dataframe tbody tr th {\n        vertical-align: top;\n    }\n\n    .dataframe thead th {\n        text-align: right;\n    }\n</style>\n<table border=\"1\" class=\"dataframe\">\n  <thead>\n    <tr style=\"text-align: right;\">\n      <th></th>\n      <th>1</th>\n      <th>1.1</th>\n      <th>9.9987</th>\n      <th>0.2502</th>\n      <th>100.0</th>\n      <th>489.05</th>\n      <th>605.03</th>\n      <th>1497.17</th>\n      <th>1304.99</th>\n      <th>10.52</th>\n      <th>...</th>\n      <th>8114.10</th>\n      <th>8.6476</th>\n      <th>0.03</th>\n      <th>369</th>\n      <th>2319</th>\n      <th>100.00</th>\n      <th>28.42</th>\n      <th>17.1551</th>\n      <th>Unnamed: 26</th>\n      <th>Unnamed: 27</th>\n    </tr>\n  </thead>\n  <tbody>\n    <tr>\n      <th>0</th>\n      <td>1</td>\n      <td>2</td>\n      <td>20.0026</td>\n      <td>0.7000</td>\n      <td>100.0</td>\n      <td>491.19</td>\n      <td>607.82</td>\n      <td>1481.20</td>\n      <td>1246.11</td>\n      <td>9.35</td>\n      <td>...</td>\n      <td>8053.06</td>\n      <td>9.2405</td>\n      <td>0.02</td>\n      <td>364</td>\n      <td>2324</td>\n      <td>100.00</td>\n      <td>24.29</td>\n      <td>14.8039</td>\n      <td>NaN</td>\n      <td>NaN</td>\n    </tr>\n    <tr>\n      <th>1</th>\n      <td>1</td>\n      <td>3</td>\n      <td>35.0045</td>\n      <td>0.8400</td>\n      <td>100.0</td>\n      <td>449.44</td>\n      <td>556.00</td>\n      <td>1359.08</td>\n      <td>1128.36</td>\n      <td>5.48</td>\n      <td>...</td>\n      <td>8053.04</td>\n      <td>9.3472</td>\n      <td>0.02</td>\n      <td>333</td>\n      <td>2223</td>\n      <td>100.00</td>\n      <td>14.98</td>\n      <td>8.9125</td>\n      <td>NaN</td>\n      <td>NaN</td>\n    </tr>\n    <tr>\n      <th>2</th>\n      <td>1</td>\n      <td>4</td>\n      <td>42.0066</td>\n      <td>0.8410</td>\n      <td>100.0</td>\n      <td>445.00</td>\n      <td>550.17</td>\n      <td>1349.69</td>\n      <td>1127.89</td>\n      <td>3.91</td>\n      <td>...</td>\n      <td>8066.90</td>\n      <td>9.3961</td>\n      <td>0.02</td>\n      <td>332</td>\n      <td>2212</td>\n      <td>100.00</td>\n      <td>10.35</td>\n      <td>6.4181</td>\n      <td>NaN</td>\n      <td>NaN</td>\n    </tr>\n    <tr>\n      <th>3</th>\n      <td>1</td>\n      <td>5</td>\n      <td>24.9985</td>\n      <td>0.6213</td>\n      <td>60.0</td>\n      <td>462.54</td>\n      <td>536.72</td>\n      <td>1253.18</td>\n      <td>1050.69</td>\n      <td>7.05</td>\n      <td>...</td>\n      <td>7865.66</td>\n      <td>10.8682</td>\n      <td>0.02</td>\n      <td>305</td>\n      <td>1915</td>\n      <td>84.93</td>\n      <td>14.31</td>\n      <td>8.5740</td>\n      <td>NaN</td>\n      <td>NaN</td>\n    </tr>\n    <tr>\n      <th>4</th>\n      <td>1</td>\n      <td>6</td>\n      <td>25.0006</td>\n      <td>0.6206</td>\n      <td>60.0</td>\n      <td>462.54</td>\n      <td>536.62</td>\n      <td>1258.90</td>\n      <td>1047.35</td>\n      <td>7.05</td>\n      <td>...</td>\n      <td>7859.98</td>\n      <td>10.9378</td>\n      <td>0.02</td>\n      <td>307</td>\n      <td>1915</td>\n      <td>84.93</td>\n      <td>14.26</td>\n      <td>8.4941</td>\n      <td>NaN</td>\n      <td>NaN</td>\n    </tr>\n    <tr>\n      <th>...</th>\n      <td>...</td>\n      <td>...</td>\n      <td>...</td>\n      <td>...</td>\n      <td>...</td>\n      <td>...</td>\n      <td>...</td>\n      <td>...</td>\n      <td>...</td>\n      <td>...</td>\n      <td>...</td>\n      <td>...</td>\n      <td>...</td>\n      <td>...</td>\n      <td>...</td>\n      <td>...</td>\n      <td>...</td>\n      <td>...</td>\n      <td>...</td>\n      <td>...</td>\n      <td>...</td>\n    </tr>\n    <tr>\n      <th>33985</th>\n      <td>259</td>\n      <td>119</td>\n      <td>35.0015</td>\n      <td>0.8403</td>\n      <td>100.0</td>\n      <td>449.44</td>\n      <td>555.56</td>\n      <td>1366.01</td>\n      <td>1129.47</td>\n      <td>5.48</td>\n      <td>...</td>\n      <td>8088.36</td>\n      <td>9.3215</td>\n      <td>0.02</td>\n      <td>334</td>\n      <td>2223</td>\n      <td>100.00</td>\n      <td>14.94</td>\n      <td>8.9065</td>\n      <td>NaN</td>\n      <td>NaN</td>\n    </tr>\n    <tr>\n      <th>33986</th>\n      <td>259</td>\n      <td>120</td>\n      <td>42.0066</td>\n      <td>0.8405</td>\n      <td>100.0</td>\n      <td>445.00</td>\n      <td>549.42</td>\n      <td>1351.13</td>\n      <td>1123.86</td>\n      <td>3.91</td>\n      <td>...</td>\n      <td>8108.48</td>\n      <td>9.3542</td>\n      <td>0.02</td>\n      <td>332</td>\n      <td>2212</td>\n      <td>100.00</td>\n      <td>10.57</td>\n      <td>6.4075</td>\n      <td>NaN</td>\n      <td>NaN</td>\n    </tr>\n    <tr>\n      <th>33987</th>\n      <td>259</td>\n      <td>121</td>\n      <td>42.0061</td>\n      <td>0.8400</td>\n      <td>100.0</td>\n      <td>445.00</td>\n      <td>549.65</td>\n      <td>1349.14</td>\n      <td>1118.91</td>\n      <td>3.91</td>\n      <td>...</td>\n      <td>8098.77</td>\n      <td>9.3836</td>\n      <td>0.02</td>\n      <td>331</td>\n      <td>2212</td>\n      <td>100.00</td>\n      <td>10.57</td>\n      <td>6.4805</td>\n      <td>NaN</td>\n      <td>NaN</td>\n    </tr>\n    <tr>\n      <th>33988</th>\n      <td>259</td>\n      <td>122</td>\n      <td>0.0024</td>\n      <td>0.0003</td>\n      <td>100.0</td>\n      <td>518.67</td>\n      <td>642.58</td>\n      <td>1589.61</td>\n      <td>1408.16</td>\n      <td>14.62</td>\n      <td>...</td>\n      <td>8161.85</td>\n      <td>8.4279</td>\n      <td>0.03</td>\n      <td>393</td>\n      <td>2388</td>\n      <td>100.00</td>\n      <td>39.08</td>\n      <td>23.3589</td>\n      <td>NaN</td>\n      <td>NaN</td>\n    </tr>\n    <tr>\n      <th>33989</th>\n      <td>259</td>\n      <td>123</td>\n      <td>42.0033</td>\n      <td>0.8400</td>\n      <td>100.0</td>\n      <td>445.00</td>\n      <td>549.77</td>\n      <td>1342.50</td>\n      <td>1126.96</td>\n      <td>3.91</td>\n      <td>...</td>\n      <td>8105.28</td>\n      <td>9.3458</td>\n      <td>0.02</td>\n      <td>331</td>\n      <td>2212</td>\n      <td>100.00</td>\n      <td>10.63</td>\n      <td>6.3480</td>\n      <td>NaN</td>\n      <td>NaN</td>\n    </tr>\n  </tbody>\n</table>\n<p>33990 rows × 28 columns</p>\n</div>"
     },
     "execution_count": 28,
     "metadata": {},
     "output_type": "execute_result"
    }
   ],
   "source": [
    "df2 = pd.read_csv(\"test_fd002.txt\",sep=\" \")\n",
    "df2"
   ],
   "metadata": {
    "collapsed": false,
    "ExecuteTime": {
     "start_time": "2023-07-10T15:39:12.260541Z",
     "end_time": "2023-07-10T15:39:12.435292Z"
    }
   }
  },
  {
   "cell_type": "code",
   "execution_count": 18,
   "outputs": [],
   "source": [
    "def read_data():\n",
    "    import os\n",
    "    cwd=os.getcwd()\n",
    "\n",
    "    columns = ['split_index', 'time_in_cycles', 'setting_1', 'setting_2', 'TRA', 'FanInTemp', 'LPCompOT', 'HPCompOT',\n",
    "               'LPTurbineOT', 'FanInP', 'BypassDuctP', 'HPCompOP', 'PhyFanSpeed', 'PhyCoreSpeed',\n",
    "               'EngPreRatio', 'HPCOStaticPre', 'RFuelFlow', 'CorrectedFanSpeed', 'CorrectedCoreSpeed', 'BypassRatio',\n",
    "               'BurnerFuelAirRatio', 'BleedEnthalpy', 'ReqFanSpeed', 'ReqFanConvSpeed', 'HPTurbineCoolAirFlow',\n",
    "               'LPTurbineAirFlow']\n",
    "    fd_001_test=pd.read_csv(\"test_fd001.txt\",sep=\" \",header=None)\n",
    "    fd_002_test = pd.read_csv(\"test_fd002.txt\", sep=\" \", header=None)\n",
    "    fd_003_test = pd.read_csv(\"test_fd003.txt\", sep=\" \", header=None)\n",
    "    fd_004_test = pd.read_csv(\"test_fd004.txt\", sep=\" \", header=None)\n",
    "    #RUL_1=pd.read_csv(cwd+r\"\\CMaps\\RUL_FD001.txt\",sep=\" \",header=None)\n",
    "\n",
    "    #Nan columns\n",
    "    fd_001_test.drop(columns=[26, 27], inplace=True)\n",
    "    fd_002_test.drop(columns=[26, 27], inplace=True)\n",
    "    fd_003_test.drop(columns=[26, 27], inplace=True)\n",
    "    fd_004_test.drop(columns=[26, 27], inplace=True)\n",
    "\n",
    "    #RUL_1.drop(columns=[1],inplace=True)\n",
    "\n",
    "    fd_001_test.columns=columns\n",
    "    fd_002_test.columns=columns\n",
    "    fd_003_test.columns=columns\n",
    "    fd_004_test.columns=columns\n",
    "\n",
    "\n",
    "    fd_002_test[\"split_index\"] += 100\n",
    "    fd_003_test[\"split_index\"] += 359\n",
    "    fd_004_test[\"split_index\"] += 459\n",
    "\n",
    "\n",
    "    frames = [fd_001_test, fd_002_test ,fd_003_test, fd_004_test]\n",
    "    result = pd.concat(frames,ignore_index=True)\n",
    "    fd_002_test[\"split_index\"] -= 100\n",
    "    fd_003_test[\"split_index\"] -= 359\n",
    "    fd_004_test[\"split_index\"] -= 459\n",
    "    frames = [fd_001_test[\"split_index\"],fd_002_test[\"split_index\"] , fd_003_test[\"split_index\"], fd_004_test[\"split_index\"]]\n",
    "    split_index = pd.concat(frames,ignore_index=True)\n",
    "    result.insert(loc = 1,\n",
    "          column = 'unit_number',\n",
    "          value = split_index)\n",
    "    print(result)\n",
    "    return fd_001_test,fd_002_test,fd_003_test,fd_004_test,result"
   ],
   "metadata": {
    "collapsed": false,
    "ExecuteTime": {
     "start_time": "2023-07-11T09:39:23.957834Z",
     "end_time": "2023-07-11T09:39:23.989086Z"
    }
   }
  },
  {
   "cell_type": "code",
   "execution_count": 19,
   "outputs": [
    {
     "name": "stdout",
     "output_type": "stream",
     "text": [
      "        split_index  unit_number  time_in_cycles  setting_1  setting_2    TRA   \n",
      "0                 1            1               1     0.0023     0.0003  100.0  \\\n",
      "1                 1            1               2    -0.0027    -0.0003  100.0   \n",
      "2                 1            1               3     0.0003     0.0001  100.0   \n",
      "3                 1            1               4     0.0042     0.0000  100.0   \n",
      "4                 1            1               5     0.0014     0.0000  100.0   \n",
      "...             ...          ...             ...        ...        ...    ...   \n",
      "104892          707          248             277    41.9991     0.8401  100.0   \n",
      "104893          707          248             278    20.0026     0.7005  100.0   \n",
      "104894          707          248             279    34.9988     0.8413  100.0   \n",
      "104895          707          248             280    20.0027     0.7000  100.0   \n",
      "104896          707          248             281    35.0075     0.8402  100.0   \n",
      "\n",
      "        FanInTemp  LPCompOT  HPCompOT  LPTurbineOT  ...  RFuelFlow   \n",
      "0          518.67    643.02   1585.29      1398.21  ...     521.72  \\\n",
      "1          518.67    641.71   1588.45      1395.42  ...     522.16   \n",
      "2          518.67    642.46   1586.94      1401.34  ...     521.97   \n",
      "3          518.67    642.44   1584.12      1406.42  ...     521.38   \n",
      "4          518.67    642.51   1587.19      1401.92  ...     522.15   \n",
      "...           ...       ...       ...          ...  ...        ...   \n",
      "104892     445.00    550.30   1364.40      1129.17  ...     130.87   \n",
      "104893     491.19    608.00   1494.75      1260.88  ...     314.51   \n",
      "104894     449.44    555.92   1370.65      1130.97  ...     182.76   \n",
      "104895     491.19    608.19   1489.11      1256.25  ...     314.17   \n",
      "104896     449.44    556.40   1378.58      1140.70  ...     181.88   \n",
      "\n",
      "        CorrectedFanSpeed  CorrectedCoreSpeed  BypassRatio   \n",
      "0                 2388.03             8125.55       8.4052  \\\n",
      "1                 2388.06             8139.62       8.3803   \n",
      "2                 2388.03             8130.10       8.4441   \n",
      "3                 2388.05             8132.90       8.3917   \n",
      "4                 2388.03             8129.54       8.4031   \n",
      "...                   ...                 ...          ...   \n",
      "104892            2388.50             8112.61       9.4427   \n",
      "104893            2388.33             8086.83       9.2772   \n",
      "104894            2388.64             8100.84       9.3982   \n",
      "104895            2388.37             8085.24       9.2727   \n",
      "104896            2388.59             8098.17       9.3964   \n",
      "\n",
      "        BurnerFuelAirRatio  BleedEnthalpy  ReqFanSpeed  ReqFanConvSpeed   \n",
      "0                     0.03            392         2388            100.0  \\\n",
      "1                     0.03            393         2388            100.0   \n",
      "2                     0.03            393         2388            100.0   \n",
      "3                     0.03            391         2388            100.0   \n",
      "4                     0.03            390         2388            100.0   \n",
      "...                    ...            ...          ...              ...   \n",
      "104892                0.02            331         2212            100.0   \n",
      "104893                0.02            366         2324            100.0   \n",
      "104894                0.02            336         2223            100.0   \n",
      "104895                0.03            366         2324            100.0   \n",
      "104896                0.02            335         2223            100.0   \n",
      "\n",
      "        HPTurbineCoolAirFlow  LPTurbineAirFlow  \n",
      "0                      38.86           23.3735  \n",
      "1                      39.02           23.3916  \n",
      "2                      39.08           23.4166  \n",
      "3                      39.00           23.3737  \n",
      "4                      38.99           23.4130  \n",
      "...                      ...               ...  \n",
      "104892                 10.53            6.2620  \n",
      "104893                 24.33           14.6486  \n",
      "104894                 14.69            8.8389  \n",
      "104895                 24.44           14.6887  \n",
      "104896                 14.72            8.8502  \n",
      "\n",
      "[104897 rows x 27 columns]\n"
     ]
    }
   ],
   "source": [
    "test_1,test_2,test_3,test_4,result=read_data()"
   ],
   "metadata": {
    "collapsed": false,
    "ExecuteTime": {
     "start_time": "2023-07-11T09:39:27.733110Z",
     "end_time": "2023-07-11T09:39:28.205114Z"
    }
   }
  },
  {
   "cell_type": "code",
   "execution_count": 6,
   "outputs": [
    {
     "data": {
      "text/plain": "Empty DataFrame\nColumns: [split_index, unit_number, time_in_cycles, setting_1, setting_2, TRA, FanInTemp, LPCompOT, HPCompOT, LPTurbineOT, FanInP, BypassDuctP, HPCompOP, PhyFanSpeed, PhyCoreSpeed, EngPreRatio, HPCOStaticPre, RFuelFlow, CorrectedFanSpeed, CorrectedCoreSpeed, BypassRatio, BurnerFuelAirRatio, BleedEnthalpy, ReqFanSpeed, ReqFanConvSpeed, HPTurbineCoolAirFlow, LPTurbineAirFlow]\nIndex: []\n\n[0 rows x 27 columns]",
      "text/html": "<div>\n<style scoped>\n    .dataframe tbody tr th:only-of-type {\n        vertical-align: middle;\n    }\n\n    .dataframe tbody tr th {\n        vertical-align: top;\n    }\n\n    .dataframe thead th {\n        text-align: right;\n    }\n</style>\n<table border=\"1\" class=\"dataframe\">\n  <thead>\n    <tr style=\"text-align: right;\">\n      <th></th>\n      <th>split_index</th>\n      <th>unit_number</th>\n      <th>time_in_cycles</th>\n      <th>setting_1</th>\n      <th>setting_2</th>\n      <th>TRA</th>\n      <th>FanInTemp</th>\n      <th>LPCompOT</th>\n      <th>HPCompOT</th>\n      <th>LPTurbineOT</th>\n      <th>...</th>\n      <th>RFuelFlow</th>\n      <th>CorrectedFanSpeed</th>\n      <th>CorrectedCoreSpeed</th>\n      <th>BypassRatio</th>\n      <th>BurnerFuelAirRatio</th>\n      <th>BleedEnthalpy</th>\n      <th>ReqFanSpeed</th>\n      <th>ReqFanConvSpeed</th>\n      <th>HPTurbineCoolAirFlow</th>\n      <th>LPTurbineAirFlow</th>\n    </tr>\n  </thead>\n  <tbody>\n  </tbody>\n</table>\n<p>0 rows × 27 columns</p>\n</div>"
     },
     "execution_count": 6,
     "metadata": {},
     "output_type": "execute_result"
    }
   ],
   "source": [
    "result[result['unit_number']==359]"
   ],
   "metadata": {
    "collapsed": false,
    "ExecuteTime": {
     "start_time": "2023-07-11T08:45:08.588416Z",
     "end_time": "2023-07-11T08:45:08.650915Z"
    }
   }
  },
  {
   "cell_type": "code",
   "execution_count": 48,
   "outputs": [
    {
     "data": {
      "text/plain": "       unit_number  time_in_cycles  setting_1  setting_2    TRA  FanInTemp   \n33868          359               1    25.0067     0.6205   60.0     462.54  \\\n33869          359               2    20.0076     0.7000  100.0     491.19   \n33870          359               3    25.0036     0.6204   60.0     462.54   \n33871          359               4    20.0031     0.7000  100.0     491.19   \n33872          359               5    35.0010     0.8400  100.0     449.44   \n...            ...             ...        ...        ...    ...        ...   \n33986          359             119    35.0015     0.8403  100.0     449.44   \n33987          359             120    42.0066     0.8405  100.0     445.00   \n33988          359             121    42.0061     0.8400  100.0     445.00   \n33989          359             122     0.0024     0.0003  100.0     518.67   \n33990          359             123    42.0033     0.8400  100.0     445.00   \n\n       LPCompOT  HPCompOT  LPTurbineOT  FanInP  ...  RFuelFlow   \n33868    537.12   1260.62      1044.10    7.05  ...     165.07  \\\n33869    606.97   1481.95      1242.42    9.35  ...     315.42   \n33870    536.45   1257.82      1042.22    7.05  ...     165.17   \n33871    606.50   1484.88      1243.02    9.35  ...     315.25   \n33872    554.56   1356.19      1123.11    5.48  ...     183.35   \n...         ...       ...          ...     ...  ...        ...   \n33986    555.56   1366.01      1129.47    5.48  ...     183.05   \n33987    549.42   1351.13      1123.86    3.91  ...     130.74   \n33988    549.65   1349.14      1118.91    3.91  ...     130.96   \n33989    642.58   1589.61      1408.16   14.62  ...     522.25   \n33990    549.77   1342.50      1126.96    3.91  ...     130.93   \n\n       CorrectedFanSpeed  CorrectedCoreSpeed  BypassRatio  BurnerFuelAirRatio   \n33868            2028.14             7863.20      10.8914                0.02  \\\n33869            2388.03             8051.65       9.2030                0.02   \n33870            2028.14             7870.76      10.8259                0.02   \n33871            2388.02             8060.66       9.1934                0.02   \n33872            2387.88             8060.73       9.3082                0.02   \n...                  ...                 ...          ...                 ...   \n33986            2388.39             8088.36       9.3215                0.02   \n33987            2388.31             8108.48       9.3542                0.02   \n33988            2388.34             8098.77       9.3836                0.02   \n33989            2388.00             8161.85       8.4279                0.03   \n33990            2388.40             8105.28       9.3458                0.02   \n\n       BleedEnthalpy  ReqFanSpeed  ReqFanConvSpeed  HPTurbineCoolAirFlow   \n33868            307         1915            84.93                 14.35  \\\n33869            364         2324           100.00                 24.46   \n33870            305         1915            84.93                 14.21   \n33871            363         2324           100.00                 24.60   \n33872            333         2223           100.00                 14.79   \n...              ...          ...              ...                   ...   \n33986            334         2223           100.00                 14.94   \n33987            332         2212           100.00                 10.57   \n33988            331         2212           100.00                 10.57   \n33989            393         2388           100.00                 39.08   \n33990            331         2212           100.00                 10.63   \n\n       LPTurbineAirFlow  \n33868            8.6820  \n33869           14.7139  \n33870            8.5043  \n33871           14.7180  \n33872            8.9632  \n...                 ...  \n33986            8.9065  \n33987            6.4075  \n33988            6.4805  \n33989           23.3589  \n33990            6.3480  \n\n[123 rows x 26 columns]",
      "text/html": "<div>\n<style scoped>\n    .dataframe tbody tr th:only-of-type {\n        vertical-align: middle;\n    }\n\n    .dataframe tbody tr th {\n        vertical-align: top;\n    }\n\n    .dataframe thead th {\n        text-align: right;\n    }\n</style>\n<table border=\"1\" class=\"dataframe\">\n  <thead>\n    <tr style=\"text-align: right;\">\n      <th></th>\n      <th>unit_number</th>\n      <th>time_in_cycles</th>\n      <th>setting_1</th>\n      <th>setting_2</th>\n      <th>TRA</th>\n      <th>FanInTemp</th>\n      <th>LPCompOT</th>\n      <th>HPCompOT</th>\n      <th>LPTurbineOT</th>\n      <th>FanInP</th>\n      <th>...</th>\n      <th>RFuelFlow</th>\n      <th>CorrectedFanSpeed</th>\n      <th>CorrectedCoreSpeed</th>\n      <th>BypassRatio</th>\n      <th>BurnerFuelAirRatio</th>\n      <th>BleedEnthalpy</th>\n      <th>ReqFanSpeed</th>\n      <th>ReqFanConvSpeed</th>\n      <th>HPTurbineCoolAirFlow</th>\n      <th>LPTurbineAirFlow</th>\n    </tr>\n  </thead>\n  <tbody>\n    <tr>\n      <th>33868</th>\n      <td>359</td>\n      <td>1</td>\n      <td>25.0067</td>\n      <td>0.6205</td>\n      <td>60.0</td>\n      <td>462.54</td>\n      <td>537.12</td>\n      <td>1260.62</td>\n      <td>1044.10</td>\n      <td>7.05</td>\n      <td>...</td>\n      <td>165.07</td>\n      <td>2028.14</td>\n      <td>7863.20</td>\n      <td>10.8914</td>\n      <td>0.02</td>\n      <td>307</td>\n      <td>1915</td>\n      <td>84.93</td>\n      <td>14.35</td>\n      <td>8.6820</td>\n    </tr>\n    <tr>\n      <th>33869</th>\n      <td>359</td>\n      <td>2</td>\n      <td>20.0076</td>\n      <td>0.7000</td>\n      <td>100.0</td>\n      <td>491.19</td>\n      <td>606.97</td>\n      <td>1481.95</td>\n      <td>1242.42</td>\n      <td>9.35</td>\n      <td>...</td>\n      <td>315.42</td>\n      <td>2388.03</td>\n      <td>8051.65</td>\n      <td>9.2030</td>\n      <td>0.02</td>\n      <td>364</td>\n      <td>2324</td>\n      <td>100.00</td>\n      <td>24.46</td>\n      <td>14.7139</td>\n    </tr>\n    <tr>\n      <th>33870</th>\n      <td>359</td>\n      <td>3</td>\n      <td>25.0036</td>\n      <td>0.6204</td>\n      <td>60.0</td>\n      <td>462.54</td>\n      <td>536.45</td>\n      <td>1257.82</td>\n      <td>1042.22</td>\n      <td>7.05</td>\n      <td>...</td>\n      <td>165.17</td>\n      <td>2028.14</td>\n      <td>7870.76</td>\n      <td>10.8259</td>\n      <td>0.02</td>\n      <td>305</td>\n      <td>1915</td>\n      <td>84.93</td>\n      <td>14.21</td>\n      <td>8.5043</td>\n    </tr>\n    <tr>\n      <th>33871</th>\n      <td>359</td>\n      <td>4</td>\n      <td>20.0031</td>\n      <td>0.7000</td>\n      <td>100.0</td>\n      <td>491.19</td>\n      <td>606.50</td>\n      <td>1484.88</td>\n      <td>1243.02</td>\n      <td>9.35</td>\n      <td>...</td>\n      <td>315.25</td>\n      <td>2388.02</td>\n      <td>8060.66</td>\n      <td>9.1934</td>\n      <td>0.02</td>\n      <td>363</td>\n      <td>2324</td>\n      <td>100.00</td>\n      <td>24.60</td>\n      <td>14.7180</td>\n    </tr>\n    <tr>\n      <th>33872</th>\n      <td>359</td>\n      <td>5</td>\n      <td>35.0010</td>\n      <td>0.8400</td>\n      <td>100.0</td>\n      <td>449.44</td>\n      <td>554.56</td>\n      <td>1356.19</td>\n      <td>1123.11</td>\n      <td>5.48</td>\n      <td>...</td>\n      <td>183.35</td>\n      <td>2387.88</td>\n      <td>8060.73</td>\n      <td>9.3082</td>\n      <td>0.02</td>\n      <td>333</td>\n      <td>2223</td>\n      <td>100.00</td>\n      <td>14.79</td>\n      <td>8.9632</td>\n    </tr>\n    <tr>\n      <th>...</th>\n      <td>...</td>\n      <td>...</td>\n      <td>...</td>\n      <td>...</td>\n      <td>...</td>\n      <td>...</td>\n      <td>...</td>\n      <td>...</td>\n      <td>...</td>\n      <td>...</td>\n      <td>...</td>\n      <td>...</td>\n      <td>...</td>\n      <td>...</td>\n      <td>...</td>\n      <td>...</td>\n      <td>...</td>\n      <td>...</td>\n      <td>...</td>\n      <td>...</td>\n      <td>...</td>\n    </tr>\n    <tr>\n      <th>33986</th>\n      <td>359</td>\n      <td>119</td>\n      <td>35.0015</td>\n      <td>0.8403</td>\n      <td>100.0</td>\n      <td>449.44</td>\n      <td>555.56</td>\n      <td>1366.01</td>\n      <td>1129.47</td>\n      <td>5.48</td>\n      <td>...</td>\n      <td>183.05</td>\n      <td>2388.39</td>\n      <td>8088.36</td>\n      <td>9.3215</td>\n      <td>0.02</td>\n      <td>334</td>\n      <td>2223</td>\n      <td>100.00</td>\n      <td>14.94</td>\n      <td>8.9065</td>\n    </tr>\n    <tr>\n      <th>33987</th>\n      <td>359</td>\n      <td>120</td>\n      <td>42.0066</td>\n      <td>0.8405</td>\n      <td>100.0</td>\n      <td>445.00</td>\n      <td>549.42</td>\n      <td>1351.13</td>\n      <td>1123.86</td>\n      <td>3.91</td>\n      <td>...</td>\n      <td>130.74</td>\n      <td>2388.31</td>\n      <td>8108.48</td>\n      <td>9.3542</td>\n      <td>0.02</td>\n      <td>332</td>\n      <td>2212</td>\n      <td>100.00</td>\n      <td>10.57</td>\n      <td>6.4075</td>\n    </tr>\n    <tr>\n      <th>33988</th>\n      <td>359</td>\n      <td>121</td>\n      <td>42.0061</td>\n      <td>0.8400</td>\n      <td>100.0</td>\n      <td>445.00</td>\n      <td>549.65</td>\n      <td>1349.14</td>\n      <td>1118.91</td>\n      <td>3.91</td>\n      <td>...</td>\n      <td>130.96</td>\n      <td>2388.34</td>\n      <td>8098.77</td>\n      <td>9.3836</td>\n      <td>0.02</td>\n      <td>331</td>\n      <td>2212</td>\n      <td>100.00</td>\n      <td>10.57</td>\n      <td>6.4805</td>\n    </tr>\n    <tr>\n      <th>33989</th>\n      <td>359</td>\n      <td>122</td>\n      <td>0.0024</td>\n      <td>0.0003</td>\n      <td>100.0</td>\n      <td>518.67</td>\n      <td>642.58</td>\n      <td>1589.61</td>\n      <td>1408.16</td>\n      <td>14.62</td>\n      <td>...</td>\n      <td>522.25</td>\n      <td>2388.00</td>\n      <td>8161.85</td>\n      <td>8.4279</td>\n      <td>0.03</td>\n      <td>393</td>\n      <td>2388</td>\n      <td>100.00</td>\n      <td>39.08</td>\n      <td>23.3589</td>\n    </tr>\n    <tr>\n      <th>33990</th>\n      <td>359</td>\n      <td>123</td>\n      <td>42.0033</td>\n      <td>0.8400</td>\n      <td>100.0</td>\n      <td>445.00</td>\n      <td>549.77</td>\n      <td>1342.50</td>\n      <td>1126.96</td>\n      <td>3.91</td>\n      <td>...</td>\n      <td>130.93</td>\n      <td>2388.40</td>\n      <td>8105.28</td>\n      <td>9.3458</td>\n      <td>0.02</td>\n      <td>331</td>\n      <td>2212</td>\n      <td>100.00</td>\n      <td>10.63</td>\n      <td>6.3480</td>\n    </tr>\n  </tbody>\n</table>\n<p>123 rows × 26 columns</p>\n</div>"
     },
     "execution_count": 48,
     "metadata": {},
     "output_type": "execute_result"
    }
   ],
   "source": [
    "test_2[test_2['unit_number']==359]"
   ],
   "metadata": {
    "collapsed": false,
    "ExecuteTime": {
     "start_time": "2023-07-10T15:55:50.206858Z",
     "end_time": "2023-07-10T15:55:50.269353Z"
    }
   }
  },
  {
   "cell_type": "code",
   "execution_count": 20,
   "outputs": [
    {
     "data": {
      "text/plain": "         1  1.1    0.0023    0.0003  100.0  518.67  643.02  1585.29  1398.21   \n0        1    2   -0.0027   -0.0003  100.0  518.67  641.71  1588.45  1395.42  \\\n1      101  103  100.0003  100.0001  200.0  618.67  742.46  1686.94  1501.34   \n2      101  104  100.0042  100.0000  200.0  618.67  742.44  1684.12  1506.42   \n3      101  105  100.0014  100.0000  200.0  618.67  742.51  1687.19  1501.92   \n4      101  106  100.0012  100.0003  200.0  618.67  742.11  1679.12  1495.13   \n...    ...  ...       ...       ...    ...     ...     ...      ...      ...   \n13090  100  194    0.0049    0.0000  100.0  518.67  643.24  1599.45  1415.79   \n13091  100  195   -0.0011   -0.0001  100.0  518.67  643.22  1595.69  1422.05   \n13092  100  196   -0.0006   -0.0003  100.0  518.67  643.44  1593.15  1406.82   \n13093  100  197   -0.0038    0.0001  100.0  518.67  643.26  1594.99  1419.36   \n13094  100  198    0.0013    0.0003  100.0  518.67  642.95  1601.62  1424.99   \n\n        14.62  ...  8125.55    8.4052    0.03  392  2388  100.00   38.86   \n0       14.62  ...  8139.62    8.3803    0.03  393  2388   100.0   39.02  \\\n1      114.62  ...  8230.10  108.4441  100.03  493  2488   200.0  139.08   \n2      114.62  ...  8232.90  108.3917  100.03  491  2488   200.0  139.00   \n3      114.62  ...  8229.54  108.4031  100.03  490  2488   200.0  138.99   \n4      114.62  ...  8227.46  108.4238  100.03  492  2488   200.0  138.91   \n...       ...  ...      ...       ...     ...  ...   ...     ...     ...   \n13090   14.62  ...  8213.28    8.4715    0.03  394  2388   100.0   38.65   \n13091   14.62  ...  8210.85    8.4512    0.03  395  2388   100.0   38.57   \n13092   14.62  ...  8217.24    8.4569    0.03  395  2388   100.0   38.62   \n13093   14.62  ...  8220.48    8.4711    0.03  395  2388   100.0   38.66   \n13094   14.62  ...  8214.64    8.4903    0.03  396  2388   100.0   38.70   \n\n        23.3735  Unnamed: 26  Unnamed: 27  \n0       23.3916          NaN          NaN  \n1      123.4166          NaN          NaN  \n2      123.3737          NaN          NaN  \n3      123.4130          NaN          NaN  \n4      123.3467          NaN          NaN  \n...         ...          ...          ...  \n13090   23.1974          NaN          NaN  \n13091   23.2771          NaN          NaN  \n13092   23.2051          NaN          NaN  \n13093   23.2699          NaN          NaN  \n13094   23.1855          NaN          NaN  \n\n[13095 rows x 28 columns]",
      "text/html": "<div>\n<style scoped>\n    .dataframe tbody tr th:only-of-type {\n        vertical-align: middle;\n    }\n\n    .dataframe tbody tr th {\n        vertical-align: top;\n    }\n\n    .dataframe thead th {\n        text-align: right;\n    }\n</style>\n<table border=\"1\" class=\"dataframe\">\n  <thead>\n    <tr style=\"text-align: right;\">\n      <th></th>\n      <th>1</th>\n      <th>1.1</th>\n      <th>0.0023</th>\n      <th>0.0003</th>\n      <th>100.0</th>\n      <th>518.67</th>\n      <th>643.02</th>\n      <th>1585.29</th>\n      <th>1398.21</th>\n      <th>14.62</th>\n      <th>...</th>\n      <th>8125.55</th>\n      <th>8.4052</th>\n      <th>0.03</th>\n      <th>392</th>\n      <th>2388</th>\n      <th>100.00</th>\n      <th>38.86</th>\n      <th>23.3735</th>\n      <th>Unnamed: 26</th>\n      <th>Unnamed: 27</th>\n    </tr>\n  </thead>\n  <tbody>\n    <tr>\n      <th>0</th>\n      <td>1</td>\n      <td>2</td>\n      <td>-0.0027</td>\n      <td>-0.0003</td>\n      <td>100.0</td>\n      <td>518.67</td>\n      <td>641.71</td>\n      <td>1588.45</td>\n      <td>1395.42</td>\n      <td>14.62</td>\n      <td>...</td>\n      <td>8139.62</td>\n      <td>8.3803</td>\n      <td>0.03</td>\n      <td>393</td>\n      <td>2388</td>\n      <td>100.0</td>\n      <td>39.02</td>\n      <td>23.3916</td>\n      <td>NaN</td>\n      <td>NaN</td>\n    </tr>\n    <tr>\n      <th>1</th>\n      <td>101</td>\n      <td>103</td>\n      <td>100.0003</td>\n      <td>100.0001</td>\n      <td>200.0</td>\n      <td>618.67</td>\n      <td>742.46</td>\n      <td>1686.94</td>\n      <td>1501.34</td>\n      <td>114.62</td>\n      <td>...</td>\n      <td>8230.10</td>\n      <td>108.4441</td>\n      <td>100.03</td>\n      <td>493</td>\n      <td>2488</td>\n      <td>200.0</td>\n      <td>139.08</td>\n      <td>123.4166</td>\n      <td>NaN</td>\n      <td>NaN</td>\n    </tr>\n    <tr>\n      <th>2</th>\n      <td>101</td>\n      <td>104</td>\n      <td>100.0042</td>\n      <td>100.0000</td>\n      <td>200.0</td>\n      <td>618.67</td>\n      <td>742.44</td>\n      <td>1684.12</td>\n      <td>1506.42</td>\n      <td>114.62</td>\n      <td>...</td>\n      <td>8232.90</td>\n      <td>108.3917</td>\n      <td>100.03</td>\n      <td>491</td>\n      <td>2488</td>\n      <td>200.0</td>\n      <td>139.00</td>\n      <td>123.3737</td>\n      <td>NaN</td>\n      <td>NaN</td>\n    </tr>\n    <tr>\n      <th>3</th>\n      <td>101</td>\n      <td>105</td>\n      <td>100.0014</td>\n      <td>100.0000</td>\n      <td>200.0</td>\n      <td>618.67</td>\n      <td>742.51</td>\n      <td>1687.19</td>\n      <td>1501.92</td>\n      <td>114.62</td>\n      <td>...</td>\n      <td>8229.54</td>\n      <td>108.4031</td>\n      <td>100.03</td>\n      <td>490</td>\n      <td>2488</td>\n      <td>200.0</td>\n      <td>138.99</td>\n      <td>123.4130</td>\n      <td>NaN</td>\n      <td>NaN</td>\n    </tr>\n    <tr>\n      <th>4</th>\n      <td>101</td>\n      <td>106</td>\n      <td>100.0012</td>\n      <td>100.0003</td>\n      <td>200.0</td>\n      <td>618.67</td>\n      <td>742.11</td>\n      <td>1679.12</td>\n      <td>1495.13</td>\n      <td>114.62</td>\n      <td>...</td>\n      <td>8227.46</td>\n      <td>108.4238</td>\n      <td>100.03</td>\n      <td>492</td>\n      <td>2488</td>\n      <td>200.0</td>\n      <td>138.91</td>\n      <td>123.3467</td>\n      <td>NaN</td>\n      <td>NaN</td>\n    </tr>\n    <tr>\n      <th>...</th>\n      <td>...</td>\n      <td>...</td>\n      <td>...</td>\n      <td>...</td>\n      <td>...</td>\n      <td>...</td>\n      <td>...</td>\n      <td>...</td>\n      <td>...</td>\n      <td>...</td>\n      <td>...</td>\n      <td>...</td>\n      <td>...</td>\n      <td>...</td>\n      <td>...</td>\n      <td>...</td>\n      <td>...</td>\n      <td>...</td>\n      <td>...</td>\n      <td>...</td>\n      <td>...</td>\n    </tr>\n    <tr>\n      <th>13090</th>\n      <td>100</td>\n      <td>194</td>\n      <td>0.0049</td>\n      <td>0.0000</td>\n      <td>100.0</td>\n      <td>518.67</td>\n      <td>643.24</td>\n      <td>1599.45</td>\n      <td>1415.79</td>\n      <td>14.62</td>\n      <td>...</td>\n      <td>8213.28</td>\n      <td>8.4715</td>\n      <td>0.03</td>\n      <td>394</td>\n      <td>2388</td>\n      <td>100.0</td>\n      <td>38.65</td>\n      <td>23.1974</td>\n      <td>NaN</td>\n      <td>NaN</td>\n    </tr>\n    <tr>\n      <th>13091</th>\n      <td>100</td>\n      <td>195</td>\n      <td>-0.0011</td>\n      <td>-0.0001</td>\n      <td>100.0</td>\n      <td>518.67</td>\n      <td>643.22</td>\n      <td>1595.69</td>\n      <td>1422.05</td>\n      <td>14.62</td>\n      <td>...</td>\n      <td>8210.85</td>\n      <td>8.4512</td>\n      <td>0.03</td>\n      <td>395</td>\n      <td>2388</td>\n      <td>100.0</td>\n      <td>38.57</td>\n      <td>23.2771</td>\n      <td>NaN</td>\n      <td>NaN</td>\n    </tr>\n    <tr>\n      <th>13092</th>\n      <td>100</td>\n      <td>196</td>\n      <td>-0.0006</td>\n      <td>-0.0003</td>\n      <td>100.0</td>\n      <td>518.67</td>\n      <td>643.44</td>\n      <td>1593.15</td>\n      <td>1406.82</td>\n      <td>14.62</td>\n      <td>...</td>\n      <td>8217.24</td>\n      <td>8.4569</td>\n      <td>0.03</td>\n      <td>395</td>\n      <td>2388</td>\n      <td>100.0</td>\n      <td>38.62</td>\n      <td>23.2051</td>\n      <td>NaN</td>\n      <td>NaN</td>\n    </tr>\n    <tr>\n      <th>13093</th>\n      <td>100</td>\n      <td>197</td>\n      <td>-0.0038</td>\n      <td>0.0001</td>\n      <td>100.0</td>\n      <td>518.67</td>\n      <td>643.26</td>\n      <td>1594.99</td>\n      <td>1419.36</td>\n      <td>14.62</td>\n      <td>...</td>\n      <td>8220.48</td>\n      <td>8.4711</td>\n      <td>0.03</td>\n      <td>395</td>\n      <td>2388</td>\n      <td>100.0</td>\n      <td>38.66</td>\n      <td>23.2699</td>\n      <td>NaN</td>\n      <td>NaN</td>\n    </tr>\n    <tr>\n      <th>13094</th>\n      <td>100</td>\n      <td>198</td>\n      <td>0.0013</td>\n      <td>0.0003</td>\n      <td>100.0</td>\n      <td>518.67</td>\n      <td>642.95</td>\n      <td>1601.62</td>\n      <td>1424.99</td>\n      <td>14.62</td>\n      <td>...</td>\n      <td>8214.64</td>\n      <td>8.4903</td>\n      <td>0.03</td>\n      <td>396</td>\n      <td>2388</td>\n      <td>100.0</td>\n      <td>38.70</td>\n      <td>23.1855</td>\n      <td>NaN</td>\n      <td>NaN</td>\n    </tr>\n  </tbody>\n</table>\n<p>13095 rows × 28 columns</p>\n</div>"
     },
     "execution_count": 20,
     "metadata": {},
     "output_type": "execute_result"
    }
   ],
   "source": [
    "frames = [pd.read_csv('test_fd001.txt'), df2]\n",
    "result = pd.concat(frames,ignore_index=True)\n",
    "df"
   ],
   "metadata": {
    "collapsed": false,
    "ExecuteTime": {
     "start_time": "2023-07-10T15:29:35.041034Z",
     "end_time": "2023-07-10T15:29:35.119163Z"
    }
   }
  },
  {
   "cell_type": "code",
   "execution_count": 20,
   "outputs": [],
   "source": [
    "def read_data2():\n",
    "    import os\n",
    "    cwd=os.getcwd()\n",
    "\n",
    "    columns = ['split_index', 'time_in_cycles', 'setting_1', 'setting_2', 'TRA', 'FanInTemp', 'LPCompOT', 'HPCompOT',\n",
    "               'LPTurbineOT', 'FanInP', 'BypassDuctP', 'HPCompOP', 'PhyFanSpeed', 'PhyCoreSpeed',\n",
    "               'EngPreRatio', 'HPCOStaticPre', 'RFuelFlow', 'CorrectedFanSpeed', 'CorrectedCoreSpeed', 'BypassRatio',\n",
    "               'BurnerFuelAirRatio', 'BleedEnthalpy', 'ReqFanSpeed', 'ReqFanConvSpeed', 'HPTurbineCoolAirFlow',\n",
    "               'LPTurbineAirFlow']\n",
    "    fd_001_train=pd.read_csv(\"train_fd001.txt\",sep=\" \",header=None)\n",
    "    fd_002_train= pd.read_csv(\"train_fd002.txt\", sep=\" \", header=None)\n",
    "    fd_003_train= pd.read_csv(\"train_fd003.txt\", sep=\" \", header=None)\n",
    "    fd_004_train= pd.read_csv(\"train_fd004.txt\", sep=\" \", header=None)\n",
    "    #RUL_1=pd.read_csv(cwd+r\"\\CMaps\\RUL_FD001.txt\",sep=\" \",header=None)\n",
    "\n",
    "    #Nan columns\n",
    "    fd_001_train.drop(columns=[26, 27], inplace=True)\n",
    "    fd_002_train.drop(columns=[26, 27], inplace=True)\n",
    "    fd_003_train.drop(columns=[26, 27], inplace=True)\n",
    "    fd_004_train.drop(columns=[26, 27], inplace=True)\n",
    "\n",
    "    #RUL_1.drop(columns=[1],inplace=True)\n",
    "\n",
    "    fd_001_train.columns=columns\n",
    "    fd_002_train.columns=columns\n",
    "    fd_003_train.columns=columns\n",
    "    fd_004_train.columns=columns\n",
    "\n",
    "\n",
    "    fd_002_train[\"split_index\"] += 100\n",
    "    fd_003_train[\"split_index\"] += 359\n",
    "    fd_004_train[\"split_index\"] += 459\n",
    "\n",
    "\n",
    "    frames = [fd_001_train, fd_002_train ,fd_003_train, fd_004_train]\n",
    "    result2 = pd.concat(frames,ignore_index=True)\n",
    "    fd_002_train[\"split_index\"] -= 100\n",
    "    fd_003_train[\"split_index\"] -= 359\n",
    "    fd_004_train[\"split_index\"] -= 459\n",
    "    frames = [fd_001_train[\"split_index\"],fd_002_train[\"split_index\"] , fd_003_train[\"split_index\"], fd_004_train[\"split_index\"]]\n",
    "    split_index = pd.concat(frames,ignore_index=True)\n",
    "    result2.insert(loc = 1,\n",
    "          column = 'unit_number',\n",
    "          value = split_index)\n",
    "    print(result2)\n",
    "    return fd_001_train,fd_002_train,fd_003_train,fd_004_train,result2\n"
   ],
   "metadata": {
    "collapsed": false,
    "ExecuteTime": {
     "start_time": "2023-07-11T09:39:56.602782Z",
     "end_time": "2023-07-11T09:39:56.634447Z"
    }
   }
  },
  {
   "cell_type": "code",
   "execution_count": 21,
   "outputs": [
    {
     "name": "stdout",
     "output_type": "stream",
     "text": [
      "        split_index  unit_number  time_in_cycles  setting_1  setting_2    TRA   \n",
      "0                 1            1               1    -0.0007    -0.0004  100.0  \\\n",
      "1                 1            1               2     0.0019    -0.0003  100.0   \n",
      "2                 1            1               3    -0.0043     0.0003  100.0   \n",
      "3                 1            1               4     0.0007     0.0000  100.0   \n",
      "4                 1            1               5    -0.0019    -0.0002  100.0   \n",
      "...             ...          ...             ...        ...        ...    ...   \n",
      "160354          708          249             251     9.9998     0.2500  100.0   \n",
      "160355          708          249             252     0.0028     0.0015  100.0   \n",
      "160356          708          249             253     0.0029     0.0000  100.0   \n",
      "160357          708          249             254    35.0046     0.8400  100.0   \n",
      "160358          708          249             255    42.0030     0.8400  100.0   \n",
      "\n",
      "        FanInTemp  LPCompOT  HPCompOT  LPTurbineOT  ...  RFuelFlow   \n",
      "0          518.67    641.82   1589.70      1400.60  ...     521.66  \\\n",
      "1          518.67    642.15   1591.82      1403.14  ...     522.28   \n",
      "2          518.67    642.35   1587.99      1404.20  ...     522.42   \n",
      "3          518.67    642.35   1582.79      1401.87  ...     522.86   \n",
      "4          518.67    642.37   1582.85      1406.22  ...     522.19   \n",
      "...           ...       ...       ...          ...  ...        ...   \n",
      "160354     489.05    605.33   1516.36      1315.28  ...     380.16   \n",
      "160355     518.67    643.42   1598.92      1426.77  ...     535.02   \n",
      "160356     518.67    643.68   1607.72      1430.56  ...     535.41   \n",
      "160357     449.44    555.77   1381.29      1148.18  ...     187.92   \n",
      "160358     445.00    549.85   1369.75      1147.45  ...     134.32   \n",
      "\n",
      "        CorrectedFanSpeed  CorrectedCoreSpeed  BypassRatio   \n",
      "0                 2388.02             8138.62       8.4195  \\\n",
      "1                 2388.07             8131.49       8.4318   \n",
      "2                 2388.03             8133.23       8.4178   \n",
      "3                 2388.08             8133.83       8.3682   \n",
      "4                 2388.04             8133.80       8.4294   \n",
      "...                   ...                 ...          ...   \n",
      "160354            2388.73             8185.69       8.4541   \n",
      "160355            2388.46             8185.47       8.2221   \n",
      "160356            2388.48             8193.94       8.2525   \n",
      "160357            2388.83             8125.64       9.0515   \n",
      "160358            2388.66             8144.33       9.1207   \n",
      "\n",
      "        BurnerFuelAirRatio  BleedEnthalpy  ReqFanSpeed  ReqFanConvSpeed   \n",
      "0                     0.03            392         2388            100.0  \\\n",
      "1                     0.03            392         2388            100.0   \n",
      "2                     0.03            390         2388            100.0   \n",
      "3                     0.03            392         2388            100.0   \n",
      "4                     0.03            393         2388            100.0   \n",
      "...                    ...            ...          ...              ...   \n",
      "160354                0.03            372         2319            100.0   \n",
      "160355                0.03            396         2388            100.0   \n",
      "160356                0.03            395         2388            100.0   \n",
      "160357                0.02            337         2223            100.0   \n",
      "160358                0.02            333         2212            100.0   \n",
      "\n",
      "        HPTurbineCoolAirFlow  LPTurbineAirFlow  \n",
      "0                      39.06           23.4190  \n",
      "1                      39.00           23.4236  \n",
      "2                      38.95           23.3442  \n",
      "3                      38.88           23.3739  \n",
      "4                      38.90           23.4044  \n",
      "...                      ...               ...  \n",
      "160354                 29.11           17.5234  \n",
      "160355                 39.38           23.7151  \n",
      "160356                 39.78           23.8270  \n",
      "160357                 15.26            9.0774  \n",
      "160358                 10.66            6.4341  \n",
      "\n",
      "[160359 rows x 27 columns]\n"
     ]
    }
   ],
   "source": [
    "train_1,train_2,train_3,train_4,result2=read_data2()"
   ],
   "metadata": {
    "collapsed": false,
    "ExecuteTime": {
     "start_time": "2023-07-11T09:40:02.845656Z",
     "end_time": "2023-07-11T09:40:03.507423Z"
    }
   }
  },
  {
   "cell_type": "code",
   "execution_count": 83,
   "outputs": [
    {
     "data": {
      "text/plain": "      0   1\n0   112 NaN\n1    98 NaN\n2    69 NaN\n3    82 NaN\n4    91 NaN\n..  ...  ..\n95  137 NaN\n96   82 NaN\n97   59 NaN\n98  117 NaN\n99   20 NaN\n\n[100 rows x 2 columns]",
      "text/html": "<div>\n<style scoped>\n    .dataframe tbody tr th:only-of-type {\n        vertical-align: middle;\n    }\n\n    .dataframe tbody tr th {\n        vertical-align: top;\n    }\n\n    .dataframe thead th {\n        text-align: right;\n    }\n</style>\n<table border=\"1\" class=\"dataframe\">\n  <thead>\n    <tr style=\"text-align: right;\">\n      <th></th>\n      <th>0</th>\n      <th>1</th>\n    </tr>\n  </thead>\n  <tbody>\n    <tr>\n      <th>0</th>\n      <td>112</td>\n      <td>NaN</td>\n    </tr>\n    <tr>\n      <th>1</th>\n      <td>98</td>\n      <td>NaN</td>\n    </tr>\n    <tr>\n      <th>2</th>\n      <td>69</td>\n      <td>NaN</td>\n    </tr>\n    <tr>\n      <th>3</th>\n      <td>82</td>\n      <td>NaN</td>\n    </tr>\n    <tr>\n      <th>4</th>\n      <td>91</td>\n      <td>NaN</td>\n    </tr>\n    <tr>\n      <th>...</th>\n      <td>...</td>\n      <td>...</td>\n    </tr>\n    <tr>\n      <th>95</th>\n      <td>137</td>\n      <td>NaN</td>\n    </tr>\n    <tr>\n      <th>96</th>\n      <td>82</td>\n      <td>NaN</td>\n    </tr>\n    <tr>\n      <th>97</th>\n      <td>59</td>\n      <td>NaN</td>\n    </tr>\n    <tr>\n      <th>98</th>\n      <td>117</td>\n      <td>NaN</td>\n    </tr>\n    <tr>\n      <th>99</th>\n      <td>20</td>\n      <td>NaN</td>\n    </tr>\n  </tbody>\n</table>\n<p>100 rows × 2 columns</p>\n</div>"
     },
     "execution_count": 83,
     "metadata": {},
     "output_type": "execute_result"
    }
   ],
   "source": [
    "fd_001_rul=pd.read_csv(\"rul_fd001.txt\",sep=\" \",header=None)\n",
    "fd_001_rul"
   ],
   "metadata": {
    "collapsed": false,
    "ExecuteTime": {
     "start_time": "2023-07-11T10:35:21.125436Z",
     "end_time": "2023-07-11T10:35:21.153082Z"
    }
   }
  },
  {
   "cell_type": "code",
   "execution_count": 84,
   "outputs": [
    {
     "data": {
      "text/plain": "      0\n0   112\n1    98\n2    69\n3    82\n4    91\n..  ...\n95  137\n96   82\n97   59\n98  117\n99   20\n\n[100 rows x 1 columns]",
      "text/html": "<div>\n<style scoped>\n    .dataframe tbody tr th:only-of-type {\n        vertical-align: middle;\n    }\n\n    .dataframe tbody tr th {\n        vertical-align: top;\n    }\n\n    .dataframe thead th {\n        text-align: right;\n    }\n</style>\n<table border=\"1\" class=\"dataframe\">\n  <thead>\n    <tr style=\"text-align: right;\">\n      <th></th>\n      <th>0</th>\n    </tr>\n  </thead>\n  <tbody>\n    <tr>\n      <th>0</th>\n      <td>112</td>\n    </tr>\n    <tr>\n      <th>1</th>\n      <td>98</td>\n    </tr>\n    <tr>\n      <th>2</th>\n      <td>69</td>\n    </tr>\n    <tr>\n      <th>3</th>\n      <td>82</td>\n    </tr>\n    <tr>\n      <th>4</th>\n      <td>91</td>\n    </tr>\n    <tr>\n      <th>...</th>\n      <td>...</td>\n    </tr>\n    <tr>\n      <th>95</th>\n      <td>137</td>\n    </tr>\n    <tr>\n      <th>96</th>\n      <td>82</td>\n    </tr>\n    <tr>\n      <th>97</th>\n      <td>59</td>\n    </tr>\n    <tr>\n      <th>98</th>\n      <td>117</td>\n    </tr>\n    <tr>\n      <th>99</th>\n      <td>20</td>\n    </tr>\n  </tbody>\n</table>\n<p>100 rows × 1 columns</p>\n</div>"
     },
     "execution_count": 84,
     "metadata": {},
     "output_type": "execute_result"
    }
   ],
   "source": [
    "fd_001_rul.drop(columns=[1],inplace=True)\n",
    "fd_001_rul"
   ],
   "metadata": {
    "collapsed": false,
    "ExecuteTime": {
     "start_time": "2023-07-11T10:35:50.055824Z",
     "end_time": "2023-07-11T10:35:50.087078Z"
    }
   }
  },
  {
   "cell_type": "code",
   "execution_count": 120,
   "outputs": [],
   "source": [
    "def read_data3():\n",
    "    import os\n",
    "    cwd=os.getcwd()\n",
    "\n",
    "    columns = ['rul']\n",
    "    fd_001_rul=pd.read_csv(\"rul_fd001.txt\",sep=\" \",header=None)\n",
    "    fd_002_rul= pd.read_csv(\"rul_fd002.txt\", sep=\" \", header=None)\n",
    "    fd_003_rul= pd.read_csv(\"rul_fd003.txt\", sep=\" \", header=None)\n",
    "    fd_004_rul= pd.read_csv(\"rul_fd004.txt\", sep=\" \", header=None)\n",
    "\n",
    "    fd_001_rul.drop(columns=[1],inplace=True)\n",
    "    fd_002_rul.drop(columns=[1],inplace=True)\n",
    "    fd_003_rul.drop(columns=[1],inplace=True)\n",
    "    fd_004_rul.drop(columns=[1],inplace=True)\n",
    "\n",
    "    fd_001_rul.columns=columns\n",
    "    fd_002_rul.columns=columns\n",
    "    fd_003_rul.columns=columns\n",
    "    fd_004_rul.columns=columns\n",
    "\n",
    "\n",
    "    frames = [fd_001_rul,fd_002_rul , fd_003_rul, fd_004_rul]\n",
    "    result3 = pd.concat(frames,ignore_index=True)\n",
    "\n",
    "    result3[\"id\"] = 0\n",
    "    result3.iloc[0:100,[1]] = 1\n",
    "    result3.iloc[100:361,[1]] = 2\n",
    "    result3.iloc[361:459,[1]] = 3\n",
    "    result3.iloc[459:711,[1]] = 4\n",
    "\n",
    "    #id = pd.concat(frames,ignore_index=True)\n",
    "    #result3.insert(loc = 1,\n",
    "          #column = 'rul',\n",
    "          #value = id)\n",
    "    result3[\"id\"]\n",
    "    #print(result3)\n",
    "    return fd_001_rul,fd_002_rul,fd_003_rul,fd_004_rul,result3"
   ],
   "metadata": {
    "collapsed": false,
    "ExecuteTime": {
     "start_time": "2023-07-11T10:59:06.021379Z",
     "end_time": "2023-07-11T10:59:06.037009Z"
    }
   }
  },
  {
   "cell_type": "code",
   "execution_count": 121,
   "outputs": [
    {
     "data": {
      "text/plain": "     rul  id\n0    112   1\n1     98   1\n2     69   1\n3     82   1\n4     91   1\n..   ...  ..\n702   35   4\n703  131   4\n704  194   4\n705  112   4\n706   26   4\n\n[707 rows x 2 columns]",
      "text/html": "<div>\n<style scoped>\n    .dataframe tbody tr th:only-of-type {\n        vertical-align: middle;\n    }\n\n    .dataframe tbody tr th {\n        vertical-align: top;\n    }\n\n    .dataframe thead th {\n        text-align: right;\n    }\n</style>\n<table border=\"1\" class=\"dataframe\">\n  <thead>\n    <tr style=\"text-align: right;\">\n      <th></th>\n      <th>rul</th>\n      <th>id</th>\n    </tr>\n  </thead>\n  <tbody>\n    <tr>\n      <th>0</th>\n      <td>112</td>\n      <td>1</td>\n    </tr>\n    <tr>\n      <th>1</th>\n      <td>98</td>\n      <td>1</td>\n    </tr>\n    <tr>\n      <th>2</th>\n      <td>69</td>\n      <td>1</td>\n    </tr>\n    <tr>\n      <th>3</th>\n      <td>82</td>\n      <td>1</td>\n    </tr>\n    <tr>\n      <th>4</th>\n      <td>91</td>\n      <td>1</td>\n    </tr>\n    <tr>\n      <th>...</th>\n      <td>...</td>\n      <td>...</td>\n    </tr>\n    <tr>\n      <th>702</th>\n      <td>35</td>\n      <td>4</td>\n    </tr>\n    <tr>\n      <th>703</th>\n      <td>131</td>\n      <td>4</td>\n    </tr>\n    <tr>\n      <th>704</th>\n      <td>194</td>\n      <td>4</td>\n    </tr>\n    <tr>\n      <th>705</th>\n      <td>112</td>\n      <td>4</td>\n    </tr>\n    <tr>\n      <th>706</th>\n      <td>26</td>\n      <td>4</td>\n    </tr>\n  </tbody>\n</table>\n<p>707 rows × 2 columns</p>\n</div>"
     },
     "execution_count": 121,
     "metadata": {},
     "output_type": "execute_result"
    }
   ],
   "source": [
    "rul_1,rul_2,rul_3,rul_4,result3=read_data3()\n",
    "result3"
   ],
   "metadata": {
    "collapsed": false,
    "ExecuteTime": {
     "start_time": "2023-07-11T10:59:07.196999Z",
     "end_time": "2023-07-11T10:59:07.243851Z"
    }
   }
  },
  {
   "cell_type": "code",
   "execution_count": 122,
   "outputs": [],
   "source": [
    "result.to_csv('test_data.csv', encoding =\"utf-8\" ,  index=False)\n",
    "result2.to_csv('train_data.csv', encoding =\"utf-8\" ,  index=False)\n",
    "result3.to_csv('rul_data.csv', encoding =\"utf-8\" ,  index=False)"
   ],
   "metadata": {
    "collapsed": false,
    "ExecuteTime": {
     "start_time": "2023-07-11T11:00:19.277649Z",
     "end_time": "2023-07-11T11:00:23.316545Z"
    }
   }
  }
 ],
 "metadata": {
  "kernelspec": {
   "display_name": "Python 3",
   "language": "python",
   "name": "python3"
  },
  "language_info": {
   "codemirror_mode": {
    "name": "ipython",
    "version": 2
   },
   "file_extension": ".py",
   "mimetype": "text/x-python",
   "name": "python",
   "nbconvert_exporter": "python",
   "pygments_lexer": "ipython2",
   "version": "2.7.6"
  }
 },
 "nbformat": 4,
 "nbformat_minor": 0
}
